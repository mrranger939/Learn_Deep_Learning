{
 "cells": [
  {
   "cell_type": "code",
   "execution_count": 1,
   "metadata": {
    "_cell_guid": "b1076dfc-b9ad-4769-8c92-a6c4dae69d19",
    "_uuid": "8f2839f25d086af736a60e9eeb907d3b93b6e0e5",
    "execution": {
     "iopub.execute_input": "2025-06-04T05:21:58.447452Z",
     "iopub.status.busy": "2025-06-04T05:21:58.446684Z",
     "iopub.status.idle": "2025-06-04T05:21:58.454870Z",
     "shell.execute_reply": "2025-06-04T05:21:58.454119Z",
     "shell.execute_reply.started": "2025-06-04T05:21:58.447424Z"
    },
    "trusted": true
   },
   "outputs": [],
   "source": [
    "\n",
    "import numpy as np\n",
    "import pandas as pd \n"
   ]
  },
  {
   "cell_type": "code",
   "execution_count": 2,
   "metadata": {
    "execution": {
     "iopub.execute_input": "2025-06-04T05:21:58.456737Z",
     "iopub.status.busy": "2025-06-04T05:21:58.456372Z",
     "iopub.status.idle": "2025-06-04T05:21:58.499679Z",
     "shell.execute_reply": "2025-06-04T05:21:58.498923Z",
     "shell.execute_reply.started": "2025-06-04T05:21:58.456713Z"
    },
    "trusted": true
   },
   "outputs": [
    {
     "data": {
      "text/html": [
       "<div>\n",
       "<style scoped>\n",
       "    .dataframe tbody tr th:only-of-type {\n",
       "        vertical-align: middle;\n",
       "    }\n",
       "\n",
       "    .dataframe tbody tr th {\n",
       "        vertical-align: top;\n",
       "    }\n",
       "\n",
       "    .dataframe thead th {\n",
       "        text-align: right;\n",
       "    }\n",
       "</style>\n",
       "<table border=\"1\" class=\"dataframe\">\n",
       "  <thead>\n",
       "    <tr style=\"text-align: right;\">\n",
       "      <th></th>\n",
       "      <th>RowNumber</th>\n",
       "      <th>CustomerId</th>\n",
       "      <th>Surname</th>\n",
       "      <th>CreditScore</th>\n",
       "      <th>Geography</th>\n",
       "      <th>Gender</th>\n",
       "      <th>Age</th>\n",
       "      <th>Tenure</th>\n",
       "      <th>Balance</th>\n",
       "      <th>NumOfProducts</th>\n",
       "      <th>HasCrCard</th>\n",
       "      <th>IsActiveMember</th>\n",
       "      <th>EstimatedSalary</th>\n",
       "      <th>Exited</th>\n",
       "    </tr>\n",
       "  </thead>\n",
       "  <tbody>\n",
       "    <tr>\n",
       "      <th>0</th>\n",
       "      <td>1</td>\n",
       "      <td>15634602</td>\n",
       "      <td>Hargrave</td>\n",
       "      <td>619</td>\n",
       "      <td>France</td>\n",
       "      <td>Female</td>\n",
       "      <td>42</td>\n",
       "      <td>2</td>\n",
       "      <td>0.00</td>\n",
       "      <td>1</td>\n",
       "      <td>1</td>\n",
       "      <td>1</td>\n",
       "      <td>101348.88</td>\n",
       "      <td>1</td>\n",
       "    </tr>\n",
       "    <tr>\n",
       "      <th>1</th>\n",
       "      <td>2</td>\n",
       "      <td>15647311</td>\n",
       "      <td>Hill</td>\n",
       "      <td>608</td>\n",
       "      <td>Spain</td>\n",
       "      <td>Female</td>\n",
       "      <td>41</td>\n",
       "      <td>1</td>\n",
       "      <td>83807.86</td>\n",
       "      <td>1</td>\n",
       "      <td>0</td>\n",
       "      <td>1</td>\n",
       "      <td>112542.58</td>\n",
       "      <td>0</td>\n",
       "    </tr>\n",
       "    <tr>\n",
       "      <th>2</th>\n",
       "      <td>3</td>\n",
       "      <td>15619304</td>\n",
       "      <td>Onio</td>\n",
       "      <td>502</td>\n",
       "      <td>France</td>\n",
       "      <td>Female</td>\n",
       "      <td>42</td>\n",
       "      <td>8</td>\n",
       "      <td>159660.80</td>\n",
       "      <td>3</td>\n",
       "      <td>1</td>\n",
       "      <td>0</td>\n",
       "      <td>113931.57</td>\n",
       "      <td>1</td>\n",
       "    </tr>\n",
       "    <tr>\n",
       "      <th>3</th>\n",
       "      <td>4</td>\n",
       "      <td>15701354</td>\n",
       "      <td>Boni</td>\n",
       "      <td>699</td>\n",
       "      <td>France</td>\n",
       "      <td>Female</td>\n",
       "      <td>39</td>\n",
       "      <td>1</td>\n",
       "      <td>0.00</td>\n",
       "      <td>2</td>\n",
       "      <td>0</td>\n",
       "      <td>0</td>\n",
       "      <td>93826.63</td>\n",
       "      <td>0</td>\n",
       "    </tr>\n",
       "    <tr>\n",
       "      <th>4</th>\n",
       "      <td>5</td>\n",
       "      <td>15737888</td>\n",
       "      <td>Mitchell</td>\n",
       "      <td>850</td>\n",
       "      <td>Spain</td>\n",
       "      <td>Female</td>\n",
       "      <td>43</td>\n",
       "      <td>2</td>\n",
       "      <td>125510.82</td>\n",
       "      <td>1</td>\n",
       "      <td>1</td>\n",
       "      <td>1</td>\n",
       "      <td>79084.10</td>\n",
       "      <td>0</td>\n",
       "    </tr>\n",
       "  </tbody>\n",
       "</table>\n",
       "</div>"
      ],
      "text/plain": [
       "   RowNumber  CustomerId   Surname  CreditScore Geography  Gender  Age  \\\n",
       "0          1    15634602  Hargrave          619    France  Female   42   \n",
       "1          2    15647311      Hill          608     Spain  Female   41   \n",
       "2          3    15619304      Onio          502    France  Female   42   \n",
       "3          4    15701354      Boni          699    France  Female   39   \n",
       "4          5    15737888  Mitchell          850     Spain  Female   43   \n",
       "\n",
       "   Tenure    Balance  NumOfProducts  HasCrCard  IsActiveMember  \\\n",
       "0       2       0.00              1          1               1   \n",
       "1       1   83807.86              1          0               1   \n",
       "2       8  159660.80              3          1               0   \n",
       "3       1       0.00              2          0               0   \n",
       "4       2  125510.82              1          1               1   \n",
       "\n",
       "   EstimatedSalary  Exited  \n",
       "0        101348.88       1  \n",
       "1        112542.58       0  \n",
       "2        113931.57       1  \n",
       "3         93826.63       0  \n",
       "4         79084.10       0  "
      ]
     },
     "execution_count": 2,
     "metadata": {},
     "output_type": "execute_result"
    }
   ],
   "source": [
    "df = pd.read_csv('./Churn_Modelling.csv')\n",
    "df.head()"
   ]
  },
  {
   "cell_type": "code",
   "execution_count": 3,
   "metadata": {
    "execution": {
     "iopub.execute_input": "2025-06-04T05:21:58.501146Z",
     "iopub.status.busy": "2025-06-04T05:21:58.500879Z",
     "iopub.status.idle": "2025-06-04T05:21:58.513436Z",
     "shell.execute_reply": "2025-06-04T05:21:58.512610Z",
     "shell.execute_reply.started": "2025-06-04T05:21:58.501116Z"
    },
    "trusted": true
   },
   "outputs": [
    {
     "name": "stdout",
     "output_type": "stream",
     "text": [
      "<class 'pandas.core.frame.DataFrame'>\n",
      "RangeIndex: 10000 entries, 0 to 9999\n",
      "Data columns (total 14 columns):\n",
      " #   Column           Non-Null Count  Dtype  \n",
      "---  ------           --------------  -----  \n",
      " 0   RowNumber        10000 non-null  int64  \n",
      " 1   CustomerId       10000 non-null  int64  \n",
      " 2   Surname          10000 non-null  object \n",
      " 3   CreditScore      10000 non-null  int64  \n",
      " 4   Geography        10000 non-null  object \n",
      " 5   Gender           10000 non-null  object \n",
      " 6   Age              10000 non-null  int64  \n",
      " 7   Tenure           10000 non-null  int64  \n",
      " 8   Balance          10000 non-null  float64\n",
      " 9   NumOfProducts    10000 non-null  int64  \n",
      " 10  HasCrCard        10000 non-null  int64  \n",
      " 11  IsActiveMember   10000 non-null  int64  \n",
      " 12  EstimatedSalary  10000 non-null  float64\n",
      " 13  Exited           10000 non-null  int64  \n",
      "dtypes: float64(2), int64(9), object(3)\n",
      "memory usage: 1.1+ MB\n"
     ]
    }
   ],
   "source": [
    "df.info()"
   ]
  },
  {
   "cell_type": "code",
   "execution_count": 4,
   "metadata": {
    "execution": {
     "iopub.execute_input": "2025-06-04T05:21:58.514540Z",
     "iopub.status.busy": "2025-06-04T05:21:58.514313Z",
     "iopub.status.idle": "2025-06-04T05:21:58.540226Z",
     "shell.execute_reply": "2025-06-04T05:21:58.539381Z",
     "shell.execute_reply.started": "2025-06-04T05:21:58.514520Z"
    },
    "trusted": true
   },
   "outputs": [
    {
     "data": {
      "text/plain": [
       "0"
      ]
     },
     "execution_count": 4,
     "metadata": {},
     "output_type": "execute_result"
    }
   ],
   "source": [
    "df.duplicated().sum()"
   ]
  },
  {
   "cell_type": "code",
   "execution_count": 5,
   "metadata": {
    "execution": {
     "iopub.execute_input": "2025-06-04T05:21:58.542295Z",
     "iopub.status.busy": "2025-06-04T05:21:58.542042Z",
     "iopub.status.idle": "2025-06-04T05:21:58.549103Z",
     "shell.execute_reply": "2025-06-04T05:21:58.548248Z",
     "shell.execute_reply.started": "2025-06-04T05:21:58.542274Z"
    },
    "trusted": true
   },
   "outputs": [
    {
     "data": {
      "text/plain": [
       "Exited\n",
       "0    7963\n",
       "1    2037\n",
       "Name: count, dtype: int64"
      ]
     },
     "execution_count": 5,
     "metadata": {},
     "output_type": "execute_result"
    }
   ],
   "source": [
    "df['Exited'].value_counts()"
   ]
  },
  {
   "cell_type": "code",
   "execution_count": 6,
   "metadata": {
    "execution": {
     "iopub.execute_input": "2025-06-04T05:21:58.550367Z",
     "iopub.status.busy": "2025-06-04T05:21:58.550097Z",
     "iopub.status.idle": "2025-06-04T05:21:58.567357Z",
     "shell.execute_reply": "2025-06-04T05:21:58.566522Z",
     "shell.execute_reply.started": "2025-06-04T05:21:58.550337Z"
    },
    "trusted": true
   },
   "outputs": [
    {
     "data": {
      "text/plain": [
       "Geography\n",
       "France     5014\n",
       "Germany    2509\n",
       "Spain      2477\n",
       "Name: count, dtype: int64"
      ]
     },
     "execution_count": 6,
     "metadata": {},
     "output_type": "execute_result"
    }
   ],
   "source": [
    "df['Geography'].value_counts()"
   ]
  },
  {
   "cell_type": "code",
   "execution_count": 7,
   "metadata": {
    "execution": {
     "iopub.execute_input": "2025-06-04T05:21:58.568834Z",
     "iopub.status.busy": "2025-06-04T05:21:58.568206Z",
     "iopub.status.idle": "2025-06-04T05:21:58.586212Z",
     "shell.execute_reply": "2025-06-04T05:21:58.585399Z",
     "shell.execute_reply.started": "2025-06-04T05:21:58.568810Z"
    },
    "trusted": true
   },
   "outputs": [
    {
     "name": "stdout",
     "output_type": "stream",
     "text": [
      "<class 'pandas.core.frame.DataFrame'>\n",
      "RangeIndex: 10000 entries, 0 to 9999\n",
      "Data columns (total 14 columns):\n",
      " #   Column           Non-Null Count  Dtype  \n",
      "---  ------           --------------  -----  \n",
      " 0   RowNumber        10000 non-null  int64  \n",
      " 1   CustomerId       10000 non-null  int64  \n",
      " 2   Surname          10000 non-null  object \n",
      " 3   CreditScore      10000 non-null  int64  \n",
      " 4   Geography        10000 non-null  object \n",
      " 5   Gender           10000 non-null  object \n",
      " 6   Age              10000 non-null  int64  \n",
      " 7   Tenure           10000 non-null  int64  \n",
      " 8   Balance          10000 non-null  float64\n",
      " 9   NumOfProducts    10000 non-null  int64  \n",
      " 10  HasCrCard        10000 non-null  int64  \n",
      " 11  IsActiveMember   10000 non-null  int64  \n",
      " 12  EstimatedSalary  10000 non-null  float64\n",
      " 13  Exited           10000 non-null  int64  \n",
      "dtypes: float64(2), int64(9), object(3)\n",
      "memory usage: 1.1+ MB\n"
     ]
    }
   ],
   "source": [
    "df.info()"
   ]
  },
  {
   "cell_type": "code",
   "execution_count": 8,
   "metadata": {
    "execution": {
     "iopub.execute_input": "2025-06-04T05:21:58.587403Z",
     "iopub.status.busy": "2025-06-04T05:21:58.587126Z",
     "iopub.status.idle": "2025-06-04T05:21:58.596816Z",
     "shell.execute_reply": "2025-06-04T05:21:58.596061Z",
     "shell.execute_reply.started": "2025-06-04T05:21:58.587382Z"
    },
    "trusted": true
   },
   "outputs": [],
   "source": [
    "df.drop(columns=['RowNumber','CustomerId','Surname'], inplace=True)"
   ]
  },
  {
   "cell_type": "code",
   "execution_count": 9,
   "metadata": {
    "execution": {
     "iopub.execute_input": "2025-06-04T05:21:58.598070Z",
     "iopub.status.busy": "2025-06-04T05:21:58.597813Z",
     "iopub.status.idle": "2025-06-04T05:21:58.619143Z",
     "shell.execute_reply": "2025-06-04T05:21:58.618280Z",
     "shell.execute_reply.started": "2025-06-04T05:21:58.598041Z"
    },
    "trusted": true
   },
   "outputs": [
    {
     "data": {
      "text/html": [
       "<div>\n",
       "<style scoped>\n",
       "    .dataframe tbody tr th:only-of-type {\n",
       "        vertical-align: middle;\n",
       "    }\n",
       "\n",
       "    .dataframe tbody tr th {\n",
       "        vertical-align: top;\n",
       "    }\n",
       "\n",
       "    .dataframe thead th {\n",
       "        text-align: right;\n",
       "    }\n",
       "</style>\n",
       "<table border=\"1\" class=\"dataframe\">\n",
       "  <thead>\n",
       "    <tr style=\"text-align: right;\">\n",
       "      <th></th>\n",
       "      <th>CreditScore</th>\n",
       "      <th>Geography</th>\n",
       "      <th>Gender</th>\n",
       "      <th>Age</th>\n",
       "      <th>Tenure</th>\n",
       "      <th>Balance</th>\n",
       "      <th>NumOfProducts</th>\n",
       "      <th>HasCrCard</th>\n",
       "      <th>IsActiveMember</th>\n",
       "      <th>EstimatedSalary</th>\n",
       "      <th>Exited</th>\n",
       "    </tr>\n",
       "  </thead>\n",
       "  <tbody>\n",
       "    <tr>\n",
       "      <th>0</th>\n",
       "      <td>619</td>\n",
       "      <td>France</td>\n",
       "      <td>Female</td>\n",
       "      <td>42</td>\n",
       "      <td>2</td>\n",
       "      <td>0.00</td>\n",
       "      <td>1</td>\n",
       "      <td>1</td>\n",
       "      <td>1</td>\n",
       "      <td>101348.88</td>\n",
       "      <td>1</td>\n",
       "    </tr>\n",
       "    <tr>\n",
       "      <th>1</th>\n",
       "      <td>608</td>\n",
       "      <td>Spain</td>\n",
       "      <td>Female</td>\n",
       "      <td>41</td>\n",
       "      <td>1</td>\n",
       "      <td>83807.86</td>\n",
       "      <td>1</td>\n",
       "      <td>0</td>\n",
       "      <td>1</td>\n",
       "      <td>112542.58</td>\n",
       "      <td>0</td>\n",
       "    </tr>\n",
       "    <tr>\n",
       "      <th>2</th>\n",
       "      <td>502</td>\n",
       "      <td>France</td>\n",
       "      <td>Female</td>\n",
       "      <td>42</td>\n",
       "      <td>8</td>\n",
       "      <td>159660.80</td>\n",
       "      <td>3</td>\n",
       "      <td>1</td>\n",
       "      <td>0</td>\n",
       "      <td>113931.57</td>\n",
       "      <td>1</td>\n",
       "    </tr>\n",
       "    <tr>\n",
       "      <th>3</th>\n",
       "      <td>699</td>\n",
       "      <td>France</td>\n",
       "      <td>Female</td>\n",
       "      <td>39</td>\n",
       "      <td>1</td>\n",
       "      <td>0.00</td>\n",
       "      <td>2</td>\n",
       "      <td>0</td>\n",
       "      <td>0</td>\n",
       "      <td>93826.63</td>\n",
       "      <td>0</td>\n",
       "    </tr>\n",
       "    <tr>\n",
       "      <th>4</th>\n",
       "      <td>850</td>\n",
       "      <td>Spain</td>\n",
       "      <td>Female</td>\n",
       "      <td>43</td>\n",
       "      <td>2</td>\n",
       "      <td>125510.82</td>\n",
       "      <td>1</td>\n",
       "      <td>1</td>\n",
       "      <td>1</td>\n",
       "      <td>79084.10</td>\n",
       "      <td>0</td>\n",
       "    </tr>\n",
       "  </tbody>\n",
       "</table>\n",
       "</div>"
      ],
      "text/plain": [
       "   CreditScore Geography  Gender  Age  Tenure    Balance  NumOfProducts  \\\n",
       "0          619    France  Female   42       2       0.00              1   \n",
       "1          608     Spain  Female   41       1   83807.86              1   \n",
       "2          502    France  Female   42       8  159660.80              3   \n",
       "3          699    France  Female   39       1       0.00              2   \n",
       "4          850     Spain  Female   43       2  125510.82              1   \n",
       "\n",
       "   HasCrCard  IsActiveMember  EstimatedSalary  Exited  \n",
       "0          1               1        101348.88       1  \n",
       "1          0               1        112542.58       0  \n",
       "2          1               0        113931.57       1  \n",
       "3          0               0         93826.63       0  \n",
       "4          1               1         79084.10       0  "
      ]
     },
     "execution_count": 9,
     "metadata": {},
     "output_type": "execute_result"
    }
   ],
   "source": [
    "df.head()"
   ]
  },
  {
   "cell_type": "code",
   "execution_count": 10,
   "metadata": {
    "execution": {
     "iopub.execute_input": "2025-06-04T05:21:58.620420Z",
     "iopub.status.busy": "2025-06-04T05:21:58.620051Z",
     "iopub.status.idle": "2025-06-04T05:21:58.637343Z",
     "shell.execute_reply": "2025-06-04T05:21:58.636631Z",
     "shell.execute_reply.started": "2025-06-04T05:21:58.620391Z"
    },
    "trusted": true
   },
   "outputs": [],
   "source": [
    "df = pd.get_dummies(df, columns=['Geography', 'Gender'], drop_first=True)"
   ]
  },
  {
   "cell_type": "code",
   "execution_count": 11,
   "metadata": {
    "execution": {
     "iopub.execute_input": "2025-06-04T05:21:58.640056Z",
     "iopub.status.busy": "2025-06-04T05:21:58.639800Z",
     "iopub.status.idle": "2025-06-04T05:21:58.652525Z",
     "shell.execute_reply": "2025-06-04T05:21:58.651743Z",
     "shell.execute_reply.started": "2025-06-04T05:21:58.640036Z"
    },
    "trusted": true
   },
   "outputs": [
    {
     "data": {
      "text/html": [
       "<div>\n",
       "<style scoped>\n",
       "    .dataframe tbody tr th:only-of-type {\n",
       "        vertical-align: middle;\n",
       "    }\n",
       "\n",
       "    .dataframe tbody tr th {\n",
       "        vertical-align: top;\n",
       "    }\n",
       "\n",
       "    .dataframe thead th {\n",
       "        text-align: right;\n",
       "    }\n",
       "</style>\n",
       "<table border=\"1\" class=\"dataframe\">\n",
       "  <thead>\n",
       "    <tr style=\"text-align: right;\">\n",
       "      <th></th>\n",
       "      <th>CreditScore</th>\n",
       "      <th>Age</th>\n",
       "      <th>Tenure</th>\n",
       "      <th>Balance</th>\n",
       "      <th>NumOfProducts</th>\n",
       "      <th>HasCrCard</th>\n",
       "      <th>IsActiveMember</th>\n",
       "      <th>EstimatedSalary</th>\n",
       "      <th>Exited</th>\n",
       "      <th>Geography_Germany</th>\n",
       "      <th>Geography_Spain</th>\n",
       "      <th>Gender_Male</th>\n",
       "    </tr>\n",
       "  </thead>\n",
       "  <tbody>\n",
       "    <tr>\n",
       "      <th>0</th>\n",
       "      <td>619</td>\n",
       "      <td>42</td>\n",
       "      <td>2</td>\n",
       "      <td>0.00</td>\n",
       "      <td>1</td>\n",
       "      <td>1</td>\n",
       "      <td>1</td>\n",
       "      <td>101348.88</td>\n",
       "      <td>1</td>\n",
       "      <td>False</td>\n",
       "      <td>False</td>\n",
       "      <td>False</td>\n",
       "    </tr>\n",
       "    <tr>\n",
       "      <th>1</th>\n",
       "      <td>608</td>\n",
       "      <td>41</td>\n",
       "      <td>1</td>\n",
       "      <td>83807.86</td>\n",
       "      <td>1</td>\n",
       "      <td>0</td>\n",
       "      <td>1</td>\n",
       "      <td>112542.58</td>\n",
       "      <td>0</td>\n",
       "      <td>False</td>\n",
       "      <td>True</td>\n",
       "      <td>False</td>\n",
       "    </tr>\n",
       "    <tr>\n",
       "      <th>2</th>\n",
       "      <td>502</td>\n",
       "      <td>42</td>\n",
       "      <td>8</td>\n",
       "      <td>159660.80</td>\n",
       "      <td>3</td>\n",
       "      <td>1</td>\n",
       "      <td>0</td>\n",
       "      <td>113931.57</td>\n",
       "      <td>1</td>\n",
       "      <td>False</td>\n",
       "      <td>False</td>\n",
       "      <td>False</td>\n",
       "    </tr>\n",
       "    <tr>\n",
       "      <th>3</th>\n",
       "      <td>699</td>\n",
       "      <td>39</td>\n",
       "      <td>1</td>\n",
       "      <td>0.00</td>\n",
       "      <td>2</td>\n",
       "      <td>0</td>\n",
       "      <td>0</td>\n",
       "      <td>93826.63</td>\n",
       "      <td>0</td>\n",
       "      <td>False</td>\n",
       "      <td>False</td>\n",
       "      <td>False</td>\n",
       "    </tr>\n",
       "    <tr>\n",
       "      <th>4</th>\n",
       "      <td>850</td>\n",
       "      <td>43</td>\n",
       "      <td>2</td>\n",
       "      <td>125510.82</td>\n",
       "      <td>1</td>\n",
       "      <td>1</td>\n",
       "      <td>1</td>\n",
       "      <td>79084.10</td>\n",
       "      <td>0</td>\n",
       "      <td>False</td>\n",
       "      <td>True</td>\n",
       "      <td>False</td>\n",
       "    </tr>\n",
       "  </tbody>\n",
       "</table>\n",
       "</div>"
      ],
      "text/plain": [
       "   CreditScore  Age  Tenure    Balance  NumOfProducts  HasCrCard  \\\n",
       "0          619   42       2       0.00              1          1   \n",
       "1          608   41       1   83807.86              1          0   \n",
       "2          502   42       8  159660.80              3          1   \n",
       "3          699   39       1       0.00              2          0   \n",
       "4          850   43       2  125510.82              1          1   \n",
       "\n",
       "   IsActiveMember  EstimatedSalary  Exited  Geography_Germany  \\\n",
       "0               1        101348.88       1              False   \n",
       "1               1        112542.58       0              False   \n",
       "2               0        113931.57       1              False   \n",
       "3               0         93826.63       0              False   \n",
       "4               1         79084.10       0              False   \n",
       "\n",
       "   Geography_Spain  Gender_Male  \n",
       "0            False        False  \n",
       "1             True        False  \n",
       "2            False        False  \n",
       "3            False        False  \n",
       "4             True        False  "
      ]
     },
     "execution_count": 11,
     "metadata": {},
     "output_type": "execute_result"
    }
   ],
   "source": [
    "df.head()"
   ]
  },
  {
   "cell_type": "code",
   "execution_count": 12,
   "metadata": {
    "execution": {
     "iopub.execute_input": "2025-06-04T05:21:58.653876Z",
     "iopub.status.busy": "2025-06-04T05:21:58.653532Z",
     "iopub.status.idle": "2025-06-04T05:21:58.670366Z",
     "shell.execute_reply": "2025-06-04T05:21:58.669590Z",
     "shell.execute_reply.started": "2025-06-04T05:21:58.653845Z"
    },
    "trusted": true
   },
   "outputs": [],
   "source": [
    "from sklearn.model_selection import train_test_split\n",
    "X = df.drop('Exited', axis=1)\n",
    "y = df['Exited']\n",
    "X_train, X_test, y_train, y_test = train_test_split(X,y, test_size=0.2, random_state=42)"
   ]
  },
  {
   "cell_type": "code",
   "execution_count": 13,
   "metadata": {
    "execution": {
     "iopub.execute_input": "2025-06-04T05:21:58.671506Z",
     "iopub.status.busy": "2025-06-04T05:21:58.671228Z",
     "iopub.status.idle": "2025-06-04T05:21:58.692687Z",
     "shell.execute_reply": "2025-06-04T05:21:58.691895Z",
     "shell.execute_reply.started": "2025-06-04T05:21:58.671477Z"
    },
    "trusted": true
   },
   "outputs": [
    {
     "data": {
      "text/html": [
       "<div>\n",
       "<style scoped>\n",
       "    .dataframe tbody tr th:only-of-type {\n",
       "        vertical-align: middle;\n",
       "    }\n",
       "\n",
       "    .dataframe tbody tr th {\n",
       "        vertical-align: top;\n",
       "    }\n",
       "\n",
       "    .dataframe thead th {\n",
       "        text-align: right;\n",
       "    }\n",
       "</style>\n",
       "<table border=\"1\" class=\"dataframe\">\n",
       "  <thead>\n",
       "    <tr style=\"text-align: right;\">\n",
       "      <th></th>\n",
       "      <th>CreditScore</th>\n",
       "      <th>Age</th>\n",
       "      <th>Tenure</th>\n",
       "      <th>Balance</th>\n",
       "      <th>NumOfProducts</th>\n",
       "      <th>HasCrCard</th>\n",
       "      <th>IsActiveMember</th>\n",
       "      <th>EstimatedSalary</th>\n",
       "      <th>Geography_Germany</th>\n",
       "      <th>Geography_Spain</th>\n",
       "      <th>Gender_Male</th>\n",
       "    </tr>\n",
       "  </thead>\n",
       "  <tbody>\n",
       "    <tr>\n",
       "      <th>0</th>\n",
       "      <td>619</td>\n",
       "      <td>42</td>\n",
       "      <td>2</td>\n",
       "      <td>0.00</td>\n",
       "      <td>1</td>\n",
       "      <td>1</td>\n",
       "      <td>1</td>\n",
       "      <td>101348.88</td>\n",
       "      <td>False</td>\n",
       "      <td>False</td>\n",
       "      <td>False</td>\n",
       "    </tr>\n",
       "    <tr>\n",
       "      <th>1</th>\n",
       "      <td>608</td>\n",
       "      <td>41</td>\n",
       "      <td>1</td>\n",
       "      <td>83807.86</td>\n",
       "      <td>1</td>\n",
       "      <td>0</td>\n",
       "      <td>1</td>\n",
       "      <td>112542.58</td>\n",
       "      <td>False</td>\n",
       "      <td>True</td>\n",
       "      <td>False</td>\n",
       "    </tr>\n",
       "    <tr>\n",
       "      <th>2</th>\n",
       "      <td>502</td>\n",
       "      <td>42</td>\n",
       "      <td>8</td>\n",
       "      <td>159660.80</td>\n",
       "      <td>3</td>\n",
       "      <td>1</td>\n",
       "      <td>0</td>\n",
       "      <td>113931.57</td>\n",
       "      <td>False</td>\n",
       "      <td>False</td>\n",
       "      <td>False</td>\n",
       "    </tr>\n",
       "    <tr>\n",
       "      <th>3</th>\n",
       "      <td>699</td>\n",
       "      <td>39</td>\n",
       "      <td>1</td>\n",
       "      <td>0.00</td>\n",
       "      <td>2</td>\n",
       "      <td>0</td>\n",
       "      <td>0</td>\n",
       "      <td>93826.63</td>\n",
       "      <td>False</td>\n",
       "      <td>False</td>\n",
       "      <td>False</td>\n",
       "    </tr>\n",
       "    <tr>\n",
       "      <th>4</th>\n",
       "      <td>850</td>\n",
       "      <td>43</td>\n",
       "      <td>2</td>\n",
       "      <td>125510.82</td>\n",
       "      <td>1</td>\n",
       "      <td>1</td>\n",
       "      <td>1</td>\n",
       "      <td>79084.10</td>\n",
       "      <td>False</td>\n",
       "      <td>True</td>\n",
       "      <td>False</td>\n",
       "    </tr>\n",
       "    <tr>\n",
       "      <th>...</th>\n",
       "      <td>...</td>\n",
       "      <td>...</td>\n",
       "      <td>...</td>\n",
       "      <td>...</td>\n",
       "      <td>...</td>\n",
       "      <td>...</td>\n",
       "      <td>...</td>\n",
       "      <td>...</td>\n",
       "      <td>...</td>\n",
       "      <td>...</td>\n",
       "      <td>...</td>\n",
       "    </tr>\n",
       "    <tr>\n",
       "      <th>9995</th>\n",
       "      <td>771</td>\n",
       "      <td>39</td>\n",
       "      <td>5</td>\n",
       "      <td>0.00</td>\n",
       "      <td>2</td>\n",
       "      <td>1</td>\n",
       "      <td>0</td>\n",
       "      <td>96270.64</td>\n",
       "      <td>False</td>\n",
       "      <td>False</td>\n",
       "      <td>True</td>\n",
       "    </tr>\n",
       "    <tr>\n",
       "      <th>9996</th>\n",
       "      <td>516</td>\n",
       "      <td>35</td>\n",
       "      <td>10</td>\n",
       "      <td>57369.61</td>\n",
       "      <td>1</td>\n",
       "      <td>1</td>\n",
       "      <td>1</td>\n",
       "      <td>101699.77</td>\n",
       "      <td>False</td>\n",
       "      <td>False</td>\n",
       "      <td>True</td>\n",
       "    </tr>\n",
       "    <tr>\n",
       "      <th>9997</th>\n",
       "      <td>709</td>\n",
       "      <td>36</td>\n",
       "      <td>7</td>\n",
       "      <td>0.00</td>\n",
       "      <td>1</td>\n",
       "      <td>0</td>\n",
       "      <td>1</td>\n",
       "      <td>42085.58</td>\n",
       "      <td>False</td>\n",
       "      <td>False</td>\n",
       "      <td>False</td>\n",
       "    </tr>\n",
       "    <tr>\n",
       "      <th>9998</th>\n",
       "      <td>772</td>\n",
       "      <td>42</td>\n",
       "      <td>3</td>\n",
       "      <td>75075.31</td>\n",
       "      <td>2</td>\n",
       "      <td>1</td>\n",
       "      <td>0</td>\n",
       "      <td>92888.52</td>\n",
       "      <td>True</td>\n",
       "      <td>False</td>\n",
       "      <td>True</td>\n",
       "    </tr>\n",
       "    <tr>\n",
       "      <th>9999</th>\n",
       "      <td>792</td>\n",
       "      <td>28</td>\n",
       "      <td>4</td>\n",
       "      <td>130142.79</td>\n",
       "      <td>1</td>\n",
       "      <td>1</td>\n",
       "      <td>0</td>\n",
       "      <td>38190.78</td>\n",
       "      <td>False</td>\n",
       "      <td>False</td>\n",
       "      <td>False</td>\n",
       "    </tr>\n",
       "  </tbody>\n",
       "</table>\n",
       "<p>10000 rows × 11 columns</p>\n",
       "</div>"
      ],
      "text/plain": [
       "      CreditScore  Age  Tenure    Balance  NumOfProducts  HasCrCard  \\\n",
       "0             619   42       2       0.00              1          1   \n",
       "1             608   41       1   83807.86              1          0   \n",
       "2             502   42       8  159660.80              3          1   \n",
       "3             699   39       1       0.00              2          0   \n",
       "4             850   43       2  125510.82              1          1   \n",
       "...           ...  ...     ...        ...            ...        ...   \n",
       "9995          771   39       5       0.00              2          1   \n",
       "9996          516   35      10   57369.61              1          1   \n",
       "9997          709   36       7       0.00              1          0   \n",
       "9998          772   42       3   75075.31              2          1   \n",
       "9999          792   28       4  130142.79              1          1   \n",
       "\n",
       "      IsActiveMember  EstimatedSalary  Geography_Germany  Geography_Spain  \\\n",
       "0                  1        101348.88              False            False   \n",
       "1                  1        112542.58              False             True   \n",
       "2                  0        113931.57              False            False   \n",
       "3                  0         93826.63              False            False   \n",
       "4                  1         79084.10              False             True   \n",
       "...              ...              ...                ...              ...   \n",
       "9995               0         96270.64              False            False   \n",
       "9996               1        101699.77              False            False   \n",
       "9997               1         42085.58              False            False   \n",
       "9998               0         92888.52               True            False   \n",
       "9999               0         38190.78              False            False   \n",
       "\n",
       "      Gender_Male  \n",
       "0           False  \n",
       "1           False  \n",
       "2           False  \n",
       "3           False  \n",
       "4           False  \n",
       "...           ...  \n",
       "9995         True  \n",
       "9996         True  \n",
       "9997        False  \n",
       "9998         True  \n",
       "9999        False  \n",
       "\n",
       "[10000 rows x 11 columns]"
      ]
     },
     "execution_count": 13,
     "metadata": {},
     "output_type": "execute_result"
    }
   ],
   "source": [
    "X"
   ]
  },
  {
   "cell_type": "code",
   "execution_count": 14,
   "metadata": {
    "execution": {
     "iopub.execute_input": "2025-06-04T05:21:58.694179Z",
     "iopub.status.busy": "2025-06-04T05:21:58.693490Z",
     "iopub.status.idle": "2025-06-04T05:21:58.711140Z",
     "shell.execute_reply": "2025-06-04T05:21:58.710437Z",
     "shell.execute_reply.started": "2025-06-04T05:21:58.694153Z"
    },
    "trusted": true
   },
   "outputs": [
    {
     "data": {
      "text/plain": [
       "0       1\n",
       "1       0\n",
       "2       1\n",
       "3       0\n",
       "4       0\n",
       "       ..\n",
       "9995    0\n",
       "9996    0\n",
       "9997    1\n",
       "9998    1\n",
       "9999    0\n",
       "Name: Exited, Length: 10000, dtype: int64"
      ]
     },
     "execution_count": 14,
     "metadata": {},
     "output_type": "execute_result"
    }
   ],
   "source": [
    "y"
   ]
  },
  {
   "cell_type": "code",
   "execution_count": 15,
   "metadata": {
    "execution": {
     "iopub.execute_input": "2025-06-04T05:21:58.712212Z",
     "iopub.status.busy": "2025-06-04T05:21:58.711994Z",
     "iopub.status.idle": "2025-06-04T05:21:58.735860Z",
     "shell.execute_reply": "2025-06-04T05:21:58.735115Z",
     "shell.execute_reply.started": "2025-06-04T05:21:58.712193Z"
    },
    "trusted": true
   },
   "outputs": [],
   "source": [
    "from sklearn.preprocessing import StandardScaler\n",
    "sc = StandardScaler()\n",
    "\n",
    "X_train = sc.fit_transform(X_train)\n",
    "X_test = sc.transform(X_test)"
   ]
  },
  {
   "cell_type": "code",
   "execution_count": 16,
   "metadata": {
    "execution": {
     "iopub.execute_input": "2025-06-04T05:21:58.737001Z",
     "iopub.status.busy": "2025-06-04T05:21:58.736720Z",
     "iopub.status.idle": "2025-06-04T05:21:58.742917Z",
     "shell.execute_reply": "2025-06-04T05:21:58.741999Z",
     "shell.execute_reply.started": "2025-06-04T05:21:58.736974Z"
    },
    "trusted": true
   },
   "outputs": [
    {
     "data": {
      "text/plain": [
       "array([[ 0.35649971, -0.6557859 ,  0.34567966, ..., -0.57946723,\n",
       "        -0.57638802,  0.91324755],\n",
       "       [-0.20389777,  0.29493847, -0.3483691 , ...,  1.72572313,\n",
       "        -0.57638802,  0.91324755],\n",
       "       [-0.96147213, -1.41636539, -0.69539349, ..., -0.57946723,\n",
       "         1.73494238,  0.91324755],\n",
       "       ...,\n",
       "       [ 0.86500853, -0.08535128, -1.38944225, ..., -0.57946723,\n",
       "        -0.57638802, -1.09499335],\n",
       "       [ 0.15932282,  0.3900109 ,  1.03972843, ..., -0.57946723,\n",
       "        -0.57638802,  0.91324755],\n",
       "       [ 0.47065475,  1.15059039, -1.38944225, ...,  1.72572313,\n",
       "        -0.57638802,  0.91324755]])"
      ]
     },
     "execution_count": 16,
     "metadata": {},
     "output_type": "execute_result"
    }
   ],
   "source": [
    "X_train"
   ]
  },
  {
   "cell_type": "code",
   "execution_count": 17,
   "metadata": {
    "execution": {
     "iopub.execute_input": "2025-06-04T05:21:58.744115Z",
     "iopub.status.busy": "2025-06-04T05:21:58.743867Z",
     "iopub.status.idle": "2025-06-04T05:21:58.756369Z",
     "shell.execute_reply": "2025-06-04T05:21:58.755592Z",
     "shell.execute_reply.started": "2025-06-04T05:21:58.744096Z"
    },
    "trusted": true
   },
   "outputs": [],
   "source": [
    "import tensorflow\n",
    "from tensorflow import keras\n",
    "from tensorflow.keras import Sequential\n",
    "from tensorflow.keras.layers import Dense"
   ]
  },
  {
   "cell_type": "code",
   "execution_count": 18,
   "metadata": {
    "execution": {
     "iopub.execute_input": "2025-06-04T05:21:58.757322Z",
     "iopub.status.busy": "2025-06-04T05:21:58.757103Z",
     "iopub.status.idle": "2025-06-04T05:21:58.799921Z",
     "shell.execute_reply": "2025-06-04T05:21:58.799112Z",
     "shell.execute_reply.started": "2025-06-04T05:21:58.757298Z"
    },
    "trusted": true
   },
   "outputs": [
    {
     "name": "stderr",
     "output_type": "stream",
     "text": [
      "c:\\python312\\Lib\\site-packages\\keras\\src\\layers\\core\\dense.py:87: UserWarning: Do not pass an `input_shape`/`input_dim` argument to a layer. When using Sequential models, prefer using an `Input(shape)` object as the first layer in the model instead.\n",
      "  super().__init__(activity_regularizer=activity_regularizer, **kwargs)\n"
     ]
    }
   ],
   "source": [
    "model = Sequential()\n",
    "model.add(Dense(11, activation='relu', input_dim=11))\n",
    "model.add(Dense(10, activation='sigmoid', input_dim=11))\n",
    "model.add(Dense(1, activation='sigmoid'))"
   ]
  },
  {
   "cell_type": "code",
   "execution_count": 19,
   "metadata": {
    "execution": {
     "iopub.execute_input": "2025-06-04T05:21:58.801058Z",
     "iopub.status.busy": "2025-06-04T05:21:58.800810Z",
     "iopub.status.idle": "2025-06-04T05:21:58.814915Z",
     "shell.execute_reply": "2025-06-04T05:21:58.814222Z",
     "shell.execute_reply.started": "2025-06-04T05:21:58.801038Z"
    },
    "trusted": true
   },
   "outputs": [
    {
     "data": {
      "text/html": [
       "<pre style=\"white-space:pre;overflow-x:auto;line-height:normal;font-family:Menlo,'DejaVu Sans Mono',consolas,'Courier New',monospace\"><span style=\"font-weight: bold\">Model: \"sequential\"</span>\n",
       "</pre>\n"
      ],
      "text/plain": [
       "\u001b[1mModel: \"sequential\"\u001b[0m\n"
      ]
     },
     "metadata": {},
     "output_type": "display_data"
    },
    {
     "data": {
      "text/html": [
       "<pre style=\"white-space:pre;overflow-x:auto;line-height:normal;font-family:Menlo,'DejaVu Sans Mono',consolas,'Courier New',monospace\">┏━━━━━━━━━━━━━━━━━━━━━━━━━━━━━━━━━┳━━━━━━━━━━━━━━━━━━━━━━━━┳━━━━━━━━━━━━━━━┓\n",
       "┃<span style=\"font-weight: bold\"> Layer (type)                    </span>┃<span style=\"font-weight: bold\"> Output Shape           </span>┃<span style=\"font-weight: bold\">       Param # </span>┃\n",
       "┡━━━━━━━━━━━━━━━━━━━━━━━━━━━━━━━━━╇━━━━━━━━━━━━━━━━━━━━━━━━╇━━━━━━━━━━━━━━━┩\n",
       "│ dense (<span style=\"color: #0087ff; text-decoration-color: #0087ff\">Dense</span>)                   │ (<span style=\"color: #00d7ff; text-decoration-color: #00d7ff\">None</span>, <span style=\"color: #00af00; text-decoration-color: #00af00\">11</span>)             │           <span style=\"color: #00af00; text-decoration-color: #00af00\">132</span> │\n",
       "├─────────────────────────────────┼────────────────────────┼───────────────┤\n",
       "│ dense_1 (<span style=\"color: #0087ff; text-decoration-color: #0087ff\">Dense</span>)                 │ (<span style=\"color: #00d7ff; text-decoration-color: #00d7ff\">None</span>, <span style=\"color: #00af00; text-decoration-color: #00af00\">10</span>)             │           <span style=\"color: #00af00; text-decoration-color: #00af00\">120</span> │\n",
       "├─────────────────────────────────┼────────────────────────┼───────────────┤\n",
       "│ dense_2 (<span style=\"color: #0087ff; text-decoration-color: #0087ff\">Dense</span>)                 │ (<span style=\"color: #00d7ff; text-decoration-color: #00d7ff\">None</span>, <span style=\"color: #00af00; text-decoration-color: #00af00\">1</span>)              │            <span style=\"color: #00af00; text-decoration-color: #00af00\">11</span> │\n",
       "└─────────────────────────────────┴────────────────────────┴───────────────┘\n",
       "</pre>\n"
      ],
      "text/plain": [
       "┏━━━━━━━━━━━━━━━━━━━━━━━━━━━━━━━━━┳━━━━━━━━━━━━━━━━━━━━━━━━┳━━━━━━━━━━━━━━━┓\n",
       "┃\u001b[1m \u001b[0m\u001b[1mLayer (type)                   \u001b[0m\u001b[1m \u001b[0m┃\u001b[1m \u001b[0m\u001b[1mOutput Shape          \u001b[0m\u001b[1m \u001b[0m┃\u001b[1m \u001b[0m\u001b[1m      Param #\u001b[0m\u001b[1m \u001b[0m┃\n",
       "┡━━━━━━━━━━━━━━━━━━━━━━━━━━━━━━━━━╇━━━━━━━━━━━━━━━━━━━━━━━━╇━━━━━━━━━━━━━━━┩\n",
       "│ dense (\u001b[38;5;33mDense\u001b[0m)                   │ (\u001b[38;5;45mNone\u001b[0m, \u001b[38;5;34m11\u001b[0m)             │           \u001b[38;5;34m132\u001b[0m │\n",
       "├─────────────────────────────────┼────────────────────────┼───────────────┤\n",
       "│ dense_1 (\u001b[38;5;33mDense\u001b[0m)                 │ (\u001b[38;5;45mNone\u001b[0m, \u001b[38;5;34m10\u001b[0m)             │           \u001b[38;5;34m120\u001b[0m │\n",
       "├─────────────────────────────────┼────────────────────────┼───────────────┤\n",
       "│ dense_2 (\u001b[38;5;33mDense\u001b[0m)                 │ (\u001b[38;5;45mNone\u001b[0m, \u001b[38;5;34m1\u001b[0m)              │            \u001b[38;5;34m11\u001b[0m │\n",
       "└─────────────────────────────────┴────────────────────────┴───────────────┘\n"
      ]
     },
     "metadata": {},
     "output_type": "display_data"
    },
    {
     "data": {
      "text/html": [
       "<pre style=\"white-space:pre;overflow-x:auto;line-height:normal;font-family:Menlo,'DejaVu Sans Mono',consolas,'Courier New',monospace\"><span style=\"font-weight: bold\"> Total params: </span><span style=\"color: #00af00; text-decoration-color: #00af00\">263</span> (1.03 KB)\n",
       "</pre>\n"
      ],
      "text/plain": [
       "\u001b[1m Total params: \u001b[0m\u001b[38;5;34m263\u001b[0m (1.03 KB)\n"
      ]
     },
     "metadata": {},
     "output_type": "display_data"
    },
    {
     "data": {
      "text/html": [
       "<pre style=\"white-space:pre;overflow-x:auto;line-height:normal;font-family:Menlo,'DejaVu Sans Mono',consolas,'Courier New',monospace\"><span style=\"font-weight: bold\"> Trainable params: </span><span style=\"color: #00af00; text-decoration-color: #00af00\">263</span> (1.03 KB)\n",
       "</pre>\n"
      ],
      "text/plain": [
       "\u001b[1m Trainable params: \u001b[0m\u001b[38;5;34m263\u001b[0m (1.03 KB)\n"
      ]
     },
     "metadata": {},
     "output_type": "display_data"
    },
    {
     "data": {
      "text/html": [
       "<pre style=\"white-space:pre;overflow-x:auto;line-height:normal;font-family:Menlo,'DejaVu Sans Mono',consolas,'Courier New',monospace\"><span style=\"font-weight: bold\"> Non-trainable params: </span><span style=\"color: #00af00; text-decoration-color: #00af00\">0</span> (0.00 B)\n",
       "</pre>\n"
      ],
      "text/plain": [
       "\u001b[1m Non-trainable params: \u001b[0m\u001b[38;5;34m0\u001b[0m (0.00 B)\n"
      ]
     },
     "metadata": {},
     "output_type": "display_data"
    }
   ],
   "source": [
    "model.summary()"
   ]
  },
  {
   "cell_type": "code",
   "execution_count": 20,
   "metadata": {
    "execution": {
     "iopub.execute_input": "2025-06-04T05:21:58.818968Z",
     "iopub.status.busy": "2025-06-04T05:21:58.818182Z",
     "iopub.status.idle": "2025-06-04T05:21:58.827704Z",
     "shell.execute_reply": "2025-06-04T05:21:58.826859Z",
     "shell.execute_reply.started": "2025-06-04T05:21:58.818943Z"
    },
    "trusted": true
   },
   "outputs": [],
   "source": [
    "# compilation of model\n",
    "model.compile(loss='binary_crossentropy', optimizer='Adam', metrics=['accuracy'])"
   ]
  },
  {
   "cell_type": "code",
   "execution_count": 21,
   "metadata": {
    "execution": {
     "iopub.execute_input": "2025-06-04T05:21:58.829262Z",
     "iopub.status.busy": "2025-06-04T05:21:58.828637Z",
     "iopub.status.idle": "2025-06-04T05:22:43.732439Z",
     "shell.execute_reply": "2025-06-04T05:22:43.731780Z",
     "shell.execute_reply.started": "2025-06-04T05:21:58.829234Z"
    },
    "trusted": true
   },
   "outputs": [
    {
     "name": "stdout",
     "output_type": "stream",
     "text": [
      "Epoch 1/100\n",
      "\u001b[1m200/200\u001b[0m \u001b[32m━━━━━━━━━━━━━━━━━━━━\u001b[0m\u001b[37m\u001b[0m \u001b[1m4s\u001b[0m 5ms/step - accuracy: 0.7916 - loss: 0.5041 - val_accuracy: 0.7987 - val_loss: 0.4625\n",
      "Epoch 2/100\n",
      "\u001b[1m200/200\u001b[0m \u001b[32m━━━━━━━━━━━━━━━━━━━━\u001b[0m\u001b[37m\u001b[0m \u001b[1m1s\u001b[0m 3ms/step - accuracy: 0.7896 - loss: 0.4680 - val_accuracy: 0.8094 - val_loss: 0.4344\n",
      "Epoch 3/100\n",
      "\u001b[1m200/200\u001b[0m \u001b[32m━━━━━━━━━━━━━━━━━━━━\u001b[0m\u001b[37m\u001b[0m \u001b[1m1s\u001b[0m 2ms/step - accuracy: 0.7965 - loss: 0.4452 - val_accuracy: 0.8219 - val_loss: 0.4197\n",
      "Epoch 4/100\n",
      "\u001b[1m200/200\u001b[0m \u001b[32m━━━━━━━━━━━━━━━━━━━━\u001b[0m\u001b[37m\u001b[0m \u001b[1m1s\u001b[0m 3ms/step - accuracy: 0.8180 - loss: 0.4177 - val_accuracy: 0.8238 - val_loss: 0.4122\n",
      "Epoch 5/100\n",
      "\u001b[1m200/200\u001b[0m \u001b[32m━━━━━━━━━━━━━━━━━━━━\u001b[0m\u001b[37m\u001b[0m \u001b[1m1s\u001b[0m 2ms/step - accuracy: 0.8075 - loss: 0.4277 - val_accuracy: 0.8294 - val_loss: 0.4066\n",
      "Epoch 6/100\n",
      "\u001b[1m200/200\u001b[0m \u001b[32m━━━━━━━━━━━━━━━━━━━━\u001b[0m\u001b[37m\u001b[0m \u001b[1m1s\u001b[0m 2ms/step - accuracy: 0.8231 - loss: 0.4130 - val_accuracy: 0.8294 - val_loss: 0.4028\n",
      "Epoch 7/100\n",
      "\u001b[1m200/200\u001b[0m \u001b[32m━━━━━━━━━━━━━━━━━━━━\u001b[0m\u001b[37m\u001b[0m \u001b[1m1s\u001b[0m 4ms/step - accuracy: 0.8299 - loss: 0.3998 - val_accuracy: 0.8306 - val_loss: 0.3981\n",
      "Epoch 8/100\n",
      "\u001b[1m200/200\u001b[0m \u001b[32m━━━━━━━━━━━━━━━━━━━━\u001b[0m\u001b[37m\u001b[0m \u001b[1m1s\u001b[0m 3ms/step - accuracy: 0.8263 - loss: 0.3960 - val_accuracy: 0.8300 - val_loss: 0.3932\n",
      "Epoch 9/100\n",
      "\u001b[1m200/200\u001b[0m \u001b[32m━━━━━━━━━━━━━━━━━━━━\u001b[0m\u001b[37m\u001b[0m \u001b[1m1s\u001b[0m 3ms/step - accuracy: 0.8260 - loss: 0.3980 - val_accuracy: 0.8331 - val_loss: 0.3871\n",
      "Epoch 10/100\n",
      "\u001b[1m200/200\u001b[0m \u001b[32m━━━━━━━━━━━━━━━━━━━━\u001b[0m\u001b[37m\u001b[0m \u001b[1m0s\u001b[0m 2ms/step - accuracy: 0.8301 - loss: 0.3796 - val_accuracy: 0.8394 - val_loss: 0.3809\n",
      "Epoch 11/100\n",
      "\u001b[1m200/200\u001b[0m \u001b[32m━━━━━━━━━━━━━━━━━━━━\u001b[0m\u001b[37m\u001b[0m \u001b[1m0s\u001b[0m 2ms/step - accuracy: 0.8431 - loss: 0.3757 - val_accuracy: 0.8456 - val_loss: 0.3749\n",
      "Epoch 12/100\n",
      "\u001b[1m200/200\u001b[0m \u001b[32m━━━━━━━━━━━━━━━━━━━━\u001b[0m\u001b[37m\u001b[0m \u001b[1m0s\u001b[0m 2ms/step - accuracy: 0.8440 - loss: 0.3681 - val_accuracy: 0.8462 - val_loss: 0.3706\n",
      "Epoch 13/100\n",
      "\u001b[1m200/200\u001b[0m \u001b[32m━━━━━━━━━━━━━━━━━━━━\u001b[0m\u001b[37m\u001b[0m \u001b[1m0s\u001b[0m 2ms/step - accuracy: 0.8480 - loss: 0.3591 - val_accuracy: 0.8481 - val_loss: 0.3671\n",
      "Epoch 14/100\n",
      "\u001b[1m200/200\u001b[0m \u001b[32m━━━━━━━━━━━━━━━━━━━━\u001b[0m\u001b[37m\u001b[0m \u001b[1m0s\u001b[0m 2ms/step - accuracy: 0.8537 - loss: 0.3534 - val_accuracy: 0.8506 - val_loss: 0.3647\n",
      "Epoch 15/100\n",
      "\u001b[1m200/200\u001b[0m \u001b[32m━━━━━━━━━━━━━━━━━━━━\u001b[0m\u001b[37m\u001b[0m \u001b[1m1s\u001b[0m 2ms/step - accuracy: 0.8569 - loss: 0.3549 - val_accuracy: 0.8537 - val_loss: 0.3622\n",
      "Epoch 16/100\n",
      "\u001b[1m200/200\u001b[0m \u001b[32m━━━━━━━━━━━━━━━━━━━━\u001b[0m\u001b[37m\u001b[0m \u001b[1m1s\u001b[0m 2ms/step - accuracy: 0.8449 - loss: 0.3637 - val_accuracy: 0.8537 - val_loss: 0.3606\n",
      "Epoch 17/100\n",
      "\u001b[1m200/200\u001b[0m \u001b[32m━━━━━━━━━━━━━━━━━━━━\u001b[0m\u001b[37m\u001b[0m \u001b[1m0s\u001b[0m 2ms/step - accuracy: 0.8560 - loss: 0.3438 - val_accuracy: 0.8544 - val_loss: 0.3593\n",
      "Epoch 18/100\n",
      "\u001b[1m200/200\u001b[0m \u001b[32m━━━━━━━━━━━━━━━━━━━━\u001b[0m\u001b[37m\u001b[0m \u001b[1m0s\u001b[0m 2ms/step - accuracy: 0.8521 - loss: 0.3468 - val_accuracy: 0.8531 - val_loss: 0.3578\n",
      "Epoch 19/100\n",
      "\u001b[1m200/200\u001b[0m \u001b[32m━━━━━━━━━━━━━━━━━━━━\u001b[0m\u001b[37m\u001b[0m \u001b[1m0s\u001b[0m 2ms/step - accuracy: 0.8533 - loss: 0.3408 - val_accuracy: 0.8525 - val_loss: 0.3558\n",
      "Epoch 20/100\n",
      "\u001b[1m200/200\u001b[0m \u001b[32m━━━━━━━━━━━━━━━━━━━━\u001b[0m\u001b[37m\u001b[0m \u001b[1m1s\u001b[0m 3ms/step - accuracy: 0.8688 - loss: 0.3285 - val_accuracy: 0.8519 - val_loss: 0.3543\n",
      "Epoch 21/100\n",
      "\u001b[1m200/200\u001b[0m \u001b[32m━━━━━━━━━━━━━━━━━━━━\u001b[0m\u001b[37m\u001b[0m \u001b[1m0s\u001b[0m 2ms/step - accuracy: 0.8547 - loss: 0.3497 - val_accuracy: 0.8525 - val_loss: 0.3534\n",
      "Epoch 22/100\n",
      "\u001b[1m200/200\u001b[0m \u001b[32m━━━━━━━━━━━━━━━━━━━━\u001b[0m\u001b[37m\u001b[0m \u001b[1m0s\u001b[0m 2ms/step - accuracy: 0.8560 - loss: 0.3503 - val_accuracy: 0.8531 - val_loss: 0.3522\n",
      "Epoch 23/100\n",
      "\u001b[1m200/200\u001b[0m \u001b[32m━━━━━━━━━━━━━━━━━━━━\u001b[0m\u001b[37m\u001b[0m \u001b[1m0s\u001b[0m 2ms/step - accuracy: 0.8603 - loss: 0.3460 - val_accuracy: 0.8562 - val_loss: 0.3517\n",
      "Epoch 24/100\n",
      "\u001b[1m200/200\u001b[0m \u001b[32m━━━━━━━━━━━━━━━━━━━━\u001b[0m\u001b[37m\u001b[0m \u001b[1m0s\u001b[0m 2ms/step - accuracy: 0.8629 - loss: 0.3324 - val_accuracy: 0.8519 - val_loss: 0.3497\n",
      "Epoch 25/100\n",
      "\u001b[1m200/200\u001b[0m \u001b[32m━━━━━━━━━━━━━━━━━━━━\u001b[0m\u001b[37m\u001b[0m \u001b[1m1s\u001b[0m 2ms/step - accuracy: 0.8698 - loss: 0.3280 - val_accuracy: 0.8562 - val_loss: 0.3487\n",
      "Epoch 26/100\n",
      "\u001b[1m200/200\u001b[0m \u001b[32m━━━━━━━━━━━━━━━━━━━━\u001b[0m\u001b[37m\u001b[0m \u001b[1m1s\u001b[0m 3ms/step - accuracy: 0.8526 - loss: 0.3500 - val_accuracy: 0.8587 - val_loss: 0.3476\n",
      "Epoch 27/100\n",
      "\u001b[1m200/200\u001b[0m \u001b[32m━━━━━━━━━━━━━━━━━━━━\u001b[0m\u001b[37m\u001b[0m \u001b[1m0s\u001b[0m 2ms/step - accuracy: 0.8592 - loss: 0.3382 - val_accuracy: 0.8544 - val_loss: 0.3467\n",
      "Epoch 28/100\n",
      "\u001b[1m200/200\u001b[0m \u001b[32m━━━━━━━━━━━━━━━━━━━━\u001b[0m\u001b[37m\u001b[0m \u001b[1m0s\u001b[0m 2ms/step - accuracy: 0.8638 - loss: 0.3332 - val_accuracy: 0.8569 - val_loss: 0.3464\n",
      "Epoch 29/100\n",
      "\u001b[1m200/200\u001b[0m \u001b[32m━━━━━━━━━━━━━━━━━━━━\u001b[0m\u001b[37m\u001b[0m \u001b[1m1s\u001b[0m 2ms/step - accuracy: 0.8612 - loss: 0.3404 - val_accuracy: 0.8544 - val_loss: 0.3450\n",
      "Epoch 30/100\n",
      "\u001b[1m200/200\u001b[0m \u001b[32m━━━━━━━━━━━━━━━━━━━━\u001b[0m\u001b[37m\u001b[0m \u001b[1m0s\u001b[0m 2ms/step - accuracy: 0.8481 - loss: 0.3580 - val_accuracy: 0.8544 - val_loss: 0.3454\n",
      "Epoch 31/100\n",
      "\u001b[1m200/200\u001b[0m \u001b[32m━━━━━━━━━━━━━━━━━━━━\u001b[0m\u001b[37m\u001b[0m \u001b[1m0s\u001b[0m 2ms/step - accuracy: 0.8494 - loss: 0.3567 - val_accuracy: 0.8575 - val_loss: 0.3453\n",
      "Epoch 32/100\n",
      "\u001b[1m200/200\u001b[0m \u001b[32m━━━━━━━━━━━━━━━━━━━━\u001b[0m\u001b[37m\u001b[0m \u001b[1m1s\u001b[0m 5ms/step - accuracy: 0.8561 - loss: 0.3447 - val_accuracy: 0.8544 - val_loss: 0.3443\n",
      "Epoch 33/100\n",
      "\u001b[1m200/200\u001b[0m \u001b[32m━━━━━━━━━━━━━━━━━━━━\u001b[0m\u001b[37m\u001b[0m \u001b[1m1s\u001b[0m 3ms/step - accuracy: 0.8541 - loss: 0.3468 - val_accuracy: 0.8562 - val_loss: 0.3429\n",
      "Epoch 34/100\n",
      "\u001b[1m200/200\u001b[0m \u001b[32m━━━━━━━━━━━━━━━━━━━━\u001b[0m\u001b[37m\u001b[0m \u001b[1m1s\u001b[0m 4ms/step - accuracy: 0.8657 - loss: 0.3226 - val_accuracy: 0.8569 - val_loss: 0.3419\n",
      "Epoch 35/100\n",
      "\u001b[1m200/200\u001b[0m \u001b[32m━━━━━━━━━━━━━━━━━━━━\u001b[0m\u001b[37m\u001b[0m \u001b[1m2s\u001b[0m 5ms/step - accuracy: 0.8634 - loss: 0.3276 - val_accuracy: 0.8562 - val_loss: 0.3421\n",
      "Epoch 36/100\n",
      "\u001b[1m200/200\u001b[0m \u001b[32m━━━━━━━━━━━━━━━━━━━━\u001b[0m\u001b[37m\u001b[0m \u001b[1m1s\u001b[0m 3ms/step - accuracy: 0.8607 - loss: 0.3371 - val_accuracy: 0.8562 - val_loss: 0.3412\n",
      "Epoch 37/100\n",
      "\u001b[1m200/200\u001b[0m \u001b[32m━━━━━━━━━━━━━━━━━━━━\u001b[0m\u001b[37m\u001b[0m \u001b[1m1s\u001b[0m 3ms/step - accuracy: 0.8613 - loss: 0.3348 - val_accuracy: 0.8569 - val_loss: 0.3407\n",
      "Epoch 38/100\n",
      "\u001b[1m200/200\u001b[0m \u001b[32m━━━━━━━━━━━━━━━━━━━━\u001b[0m\u001b[37m\u001b[0m \u001b[1m1s\u001b[0m 2ms/step - accuracy: 0.8637 - loss: 0.3300 - val_accuracy: 0.8544 - val_loss: 0.3404\n",
      "Epoch 39/100\n",
      "\u001b[1m200/200\u001b[0m \u001b[32m━━━━━━━━━━━━━━━━━━━━\u001b[0m\u001b[37m\u001b[0m \u001b[1m1s\u001b[0m 5ms/step - accuracy: 0.8682 - loss: 0.3278 - val_accuracy: 0.8531 - val_loss: 0.3399\n",
      "Epoch 40/100\n",
      "\u001b[1m200/200\u001b[0m \u001b[32m━━━━━━━━━━━━━━━━━━━━\u001b[0m\u001b[37m\u001b[0m \u001b[1m1s\u001b[0m 3ms/step - accuracy: 0.8643 - loss: 0.3326 - val_accuracy: 0.8556 - val_loss: 0.3397\n",
      "Epoch 41/100\n",
      "\u001b[1m200/200\u001b[0m \u001b[32m━━━━━━━━━━━━━━━━━━━━\u001b[0m\u001b[37m\u001b[0m \u001b[1m1s\u001b[0m 4ms/step - accuracy: 0.8690 - loss: 0.3300 - val_accuracy: 0.8556 - val_loss: 0.3393\n",
      "Epoch 42/100\n",
      "\u001b[1m200/200\u001b[0m \u001b[32m━━━━━━━━━━━━━━━━━━━━\u001b[0m\u001b[37m\u001b[0m \u001b[1m1s\u001b[0m 5ms/step - accuracy: 0.8590 - loss: 0.3393 - val_accuracy: 0.8556 - val_loss: 0.3394\n",
      "Epoch 43/100\n",
      "\u001b[1m200/200\u001b[0m \u001b[32m━━━━━━━━━━━━━━━━━━━━\u001b[0m\u001b[37m\u001b[0m \u001b[1m1s\u001b[0m 3ms/step - accuracy: 0.8573 - loss: 0.3446 - val_accuracy: 0.8612 - val_loss: 0.3394\n",
      "Epoch 44/100\n",
      "\u001b[1m200/200\u001b[0m \u001b[32m━━━━━━━━━━━━━━━━━━━━\u001b[0m\u001b[37m\u001b[0m \u001b[1m1s\u001b[0m 3ms/step - accuracy: 0.8610 - loss: 0.3449 - val_accuracy: 0.8525 - val_loss: 0.3388\n",
      "Epoch 45/100\n",
      "\u001b[1m200/200\u001b[0m \u001b[32m━━━━━━━━━━━━━━━━━━━━\u001b[0m\u001b[37m\u001b[0m \u001b[1m1s\u001b[0m 2ms/step - accuracy: 0.8649 - loss: 0.3358 - val_accuracy: 0.8575 - val_loss: 0.3384\n",
      "Epoch 46/100\n",
      "\u001b[1m200/200\u001b[0m \u001b[32m━━━━━━━━━━━━━━━━━━━━\u001b[0m\u001b[37m\u001b[0m \u001b[1m1s\u001b[0m 3ms/step - accuracy: 0.8649 - loss: 0.3249 - val_accuracy: 0.8575 - val_loss: 0.3385\n",
      "Epoch 47/100\n",
      "\u001b[1m200/200\u001b[0m \u001b[32m━━━━━━━━━━━━━━━━━━━━\u001b[0m\u001b[37m\u001b[0m \u001b[1m1s\u001b[0m 3ms/step - accuracy: 0.8666 - loss: 0.3175 - val_accuracy: 0.8537 - val_loss: 0.3385\n",
      "Epoch 48/100\n",
      "\u001b[1m200/200\u001b[0m \u001b[32m━━━━━━━━━━━━━━━━━━━━\u001b[0m\u001b[37m\u001b[0m \u001b[1m1s\u001b[0m 2ms/step - accuracy: 0.8587 - loss: 0.3343 - val_accuracy: 0.8544 - val_loss: 0.3374\n",
      "Epoch 49/100\n",
      "\u001b[1m200/200\u001b[0m \u001b[32m━━━━━━━━━━━━━━━━━━━━\u001b[0m\u001b[37m\u001b[0m \u001b[1m1s\u001b[0m 2ms/step - accuracy: 0.8626 - loss: 0.3283 - val_accuracy: 0.8587 - val_loss: 0.3379\n",
      "Epoch 50/100\n",
      "\u001b[1m200/200\u001b[0m \u001b[32m━━━━━━━━━━━━━━━━━━━━\u001b[0m\u001b[37m\u001b[0m \u001b[1m1s\u001b[0m 3ms/step - accuracy: 0.8674 - loss: 0.3246 - val_accuracy: 0.8544 - val_loss: 0.3371\n",
      "Epoch 51/100\n",
      "\u001b[1m200/200\u001b[0m \u001b[32m━━━━━━━━━━━━━━━━━━━━\u001b[0m\u001b[37m\u001b[0m \u001b[1m1s\u001b[0m 2ms/step - accuracy: 0.8648 - loss: 0.3250 - val_accuracy: 0.8556 - val_loss: 0.3378\n",
      "Epoch 52/100\n",
      "\u001b[1m200/200\u001b[0m \u001b[32m━━━━━━━━━━━━━━━━━━━━\u001b[0m\u001b[37m\u001b[0m \u001b[1m1s\u001b[0m 3ms/step - accuracy: 0.8673 - loss: 0.3314 - val_accuracy: 0.8537 - val_loss: 0.3375\n",
      "Epoch 53/100\n",
      "\u001b[1m200/200\u001b[0m \u001b[32m━━━━━━━━━━━━━━━━━━━━\u001b[0m\u001b[37m\u001b[0m \u001b[1m1s\u001b[0m 2ms/step - accuracy: 0.8655 - loss: 0.3245 - val_accuracy: 0.8569 - val_loss: 0.3388\n",
      "Epoch 54/100\n",
      "\u001b[1m200/200\u001b[0m \u001b[32m━━━━━━━━━━━━━━━━━━━━\u001b[0m\u001b[37m\u001b[0m \u001b[1m1s\u001b[0m 2ms/step - accuracy: 0.8693 - loss: 0.3279 - val_accuracy: 0.8556 - val_loss: 0.3367\n",
      "Epoch 55/100\n",
      "\u001b[1m200/200\u001b[0m \u001b[32m━━━━━━━━━━━━━━━━━━━━\u001b[0m\u001b[37m\u001b[0m \u001b[1m1s\u001b[0m 3ms/step - accuracy: 0.8556 - loss: 0.3413 - val_accuracy: 0.8587 - val_loss: 0.3368\n",
      "Epoch 56/100\n",
      "\u001b[1m200/200\u001b[0m \u001b[32m━━━━━━━━━━━━━━━━━━━━\u001b[0m\u001b[37m\u001b[0m \u001b[1m1s\u001b[0m 3ms/step - accuracy: 0.8648 - loss: 0.3319 - val_accuracy: 0.8575 - val_loss: 0.3368\n",
      "Epoch 57/100\n",
      "\u001b[1m200/200\u001b[0m \u001b[32m━━━━━━━━━━━━━━━━━━━━\u001b[0m\u001b[37m\u001b[0m \u001b[1m1s\u001b[0m 3ms/step - accuracy: 0.8630 - loss: 0.3289 - val_accuracy: 0.8544 - val_loss: 0.3372\n",
      "Epoch 58/100\n",
      "\u001b[1m200/200\u001b[0m \u001b[32m━━━━━━━━━━━━━━━━━━━━\u001b[0m\u001b[37m\u001b[0m \u001b[1m1s\u001b[0m 2ms/step - accuracy: 0.8624 - loss: 0.3317 - val_accuracy: 0.8569 - val_loss: 0.3369\n",
      "Epoch 59/100\n",
      "\u001b[1m200/200\u001b[0m \u001b[32m━━━━━━━━━━━━━━━━━━━━\u001b[0m\u001b[37m\u001b[0m \u001b[1m1s\u001b[0m 2ms/step - accuracy: 0.8632 - loss: 0.3275 - val_accuracy: 0.8581 - val_loss: 0.3356\n",
      "Epoch 60/100\n",
      "\u001b[1m200/200\u001b[0m \u001b[32m━━━━━━━━━━━━━━━━━━━━\u001b[0m\u001b[37m\u001b[0m \u001b[1m1s\u001b[0m 3ms/step - accuracy: 0.8609 - loss: 0.3380 - val_accuracy: 0.8569 - val_loss: 0.3360\n",
      "Epoch 61/100\n",
      "\u001b[1m200/200\u001b[0m \u001b[32m━━━━━━━━━━━━━━━━━━━━\u001b[0m\u001b[37m\u001b[0m \u001b[1m1s\u001b[0m 3ms/step - accuracy: 0.8632 - loss: 0.3360 - val_accuracy: 0.8556 - val_loss: 0.3366\n",
      "Epoch 62/100\n",
      "\u001b[1m200/200\u001b[0m \u001b[32m━━━━━━━━━━━━━━━━━━━━\u001b[0m\u001b[37m\u001b[0m \u001b[1m1s\u001b[0m 2ms/step - accuracy: 0.8690 - loss: 0.3203 - val_accuracy: 0.8600 - val_loss: 0.3363\n",
      "Epoch 63/100\n",
      "\u001b[1m200/200\u001b[0m \u001b[32m━━━━━━━━━━━━━━━━━━━━\u001b[0m\u001b[37m\u001b[0m \u001b[1m1s\u001b[0m 3ms/step - accuracy: 0.8615 - loss: 0.3322 - val_accuracy: 0.8569 - val_loss: 0.3365\n",
      "Epoch 64/100\n",
      "\u001b[1m200/200\u001b[0m \u001b[32m━━━━━━━━━━━━━━━━━━━━\u001b[0m\u001b[37m\u001b[0m \u001b[1m2s\u001b[0m 9ms/step - accuracy: 0.8626 - loss: 0.3303 - val_accuracy: 0.8587 - val_loss: 0.3358\n",
      "Epoch 65/100\n",
      "\u001b[1m200/200\u001b[0m \u001b[32m━━━━━━━━━━━━━━━━━━━━\u001b[0m\u001b[37m\u001b[0m \u001b[1m1s\u001b[0m 6ms/step - accuracy: 0.8647 - loss: 0.3188 - val_accuracy: 0.8556 - val_loss: 0.3355\n",
      "Epoch 66/100\n",
      "\u001b[1m200/200\u001b[0m \u001b[32m━━━━━━━━━━━━━━━━━━━━\u001b[0m\u001b[37m\u001b[0m \u001b[1m1s\u001b[0m 5ms/step - accuracy: 0.8625 - loss: 0.3375 - val_accuracy: 0.8550 - val_loss: 0.3354\n",
      "Epoch 67/100\n",
      "\u001b[1m200/200\u001b[0m \u001b[32m━━━━━━━━━━━━━━━━━━━━\u001b[0m\u001b[37m\u001b[0m \u001b[1m1s\u001b[0m 4ms/step - accuracy: 0.8549 - loss: 0.3487 - val_accuracy: 0.8619 - val_loss: 0.3362\n",
      "Epoch 68/100\n",
      "\u001b[1m200/200\u001b[0m \u001b[32m━━━━━━━━━━━━━━━━━━━━\u001b[0m\u001b[37m\u001b[0m \u001b[1m1s\u001b[0m 2ms/step - accuracy: 0.8653 - loss: 0.3258 - val_accuracy: 0.8537 - val_loss: 0.3360\n",
      "Epoch 69/100\n",
      "\u001b[1m200/200\u001b[0m \u001b[32m━━━━━━━━━━━━━━━━━━━━\u001b[0m\u001b[37m\u001b[0m \u001b[1m1s\u001b[0m 4ms/step - accuracy: 0.8686 - loss: 0.3228 - val_accuracy: 0.8581 - val_loss: 0.3355\n",
      "Epoch 70/100\n",
      "\u001b[1m200/200\u001b[0m \u001b[32m━━━━━━━━━━━━━━━━━━━━\u001b[0m\u001b[37m\u001b[0m \u001b[1m1s\u001b[0m 4ms/step - accuracy: 0.8706 - loss: 0.3233 - val_accuracy: 0.8562 - val_loss: 0.3355\n",
      "Epoch 71/100\n",
      "\u001b[1m200/200\u001b[0m \u001b[32m━━━━━━━━━━━━━━━━━━━━\u001b[0m\u001b[37m\u001b[0m \u001b[1m1s\u001b[0m 4ms/step - accuracy: 0.8639 - loss: 0.3309 - val_accuracy: 0.8569 - val_loss: 0.3356\n",
      "Epoch 72/100\n",
      "\u001b[1m200/200\u001b[0m \u001b[32m━━━━━━━━━━━━━━━━━━━━\u001b[0m\u001b[37m\u001b[0m \u001b[1m1s\u001b[0m 3ms/step - accuracy: 0.8563 - loss: 0.3322 - val_accuracy: 0.8562 - val_loss: 0.3357\n",
      "Epoch 73/100\n",
      "\u001b[1m200/200\u001b[0m \u001b[32m━━━━━━━━━━━━━━━━━━━━\u001b[0m\u001b[37m\u001b[0m \u001b[1m1s\u001b[0m 3ms/step - accuracy: 0.8643 - loss: 0.3325 - val_accuracy: 0.8581 - val_loss: 0.3353\n",
      "Epoch 74/100\n",
      "\u001b[1m200/200\u001b[0m \u001b[32m━━━━━━━━━━━━━━━━━━━━\u001b[0m\u001b[37m\u001b[0m \u001b[1m1s\u001b[0m 3ms/step - accuracy: 0.8629 - loss: 0.3263 - val_accuracy: 0.8587 - val_loss: 0.3350\n",
      "Epoch 75/100\n",
      "\u001b[1m200/200\u001b[0m \u001b[32m━━━━━━━━━━━━━━━━━━━━\u001b[0m\u001b[37m\u001b[0m \u001b[1m1s\u001b[0m 3ms/step - accuracy: 0.8730 - loss: 0.3201 - val_accuracy: 0.8581 - val_loss: 0.3360\n",
      "Epoch 76/100\n",
      "\u001b[1m200/200\u001b[0m \u001b[32m━━━━━━━━━━━━━━━━━━━━\u001b[0m\u001b[37m\u001b[0m \u001b[1m1s\u001b[0m 3ms/step - accuracy: 0.8690 - loss: 0.3251 - val_accuracy: 0.8562 - val_loss: 0.3366\n",
      "Epoch 77/100\n",
      "\u001b[1m200/200\u001b[0m \u001b[32m━━━━━━━━━━━━━━━━━━━━\u001b[0m\u001b[37m\u001b[0m \u001b[1m1s\u001b[0m 3ms/step - accuracy: 0.8659 - loss: 0.3280 - val_accuracy: 0.8556 - val_loss: 0.3364\n",
      "Epoch 78/100\n",
      "\u001b[1m200/200\u001b[0m \u001b[32m━━━━━━━━━━━━━━━━━━━━\u001b[0m\u001b[37m\u001b[0m \u001b[1m1s\u001b[0m 3ms/step - accuracy: 0.8618 - loss: 0.3361 - val_accuracy: 0.8587 - val_loss: 0.3360\n",
      "Epoch 79/100\n",
      "\u001b[1m200/200\u001b[0m \u001b[32m━━━━━━━━━━━━━━━━━━━━\u001b[0m\u001b[37m\u001b[0m \u001b[1m1s\u001b[0m 3ms/step - accuracy: 0.8666 - loss: 0.3242 - val_accuracy: 0.8587 - val_loss: 0.3359\n",
      "Epoch 80/100\n",
      "\u001b[1m200/200\u001b[0m \u001b[32m━━━━━━━━━━━━━━━━━━━━\u001b[0m\u001b[37m\u001b[0m \u001b[1m1s\u001b[0m 2ms/step - accuracy: 0.8627 - loss: 0.3303 - val_accuracy: 0.8569 - val_loss: 0.3373\n",
      "Epoch 81/100\n",
      "\u001b[1m200/200\u001b[0m \u001b[32m━━━━━━━━━━━━━━━━━━━━\u001b[0m\u001b[37m\u001b[0m \u001b[1m1s\u001b[0m 2ms/step - accuracy: 0.8606 - loss: 0.3285 - val_accuracy: 0.8612 - val_loss: 0.3360\n",
      "Epoch 82/100\n",
      "\u001b[1m200/200\u001b[0m \u001b[32m━━━━━━━━━━━━━━━━━━━━\u001b[0m\u001b[37m\u001b[0m \u001b[1m1s\u001b[0m 3ms/step - accuracy: 0.8671 - loss: 0.3214 - val_accuracy: 0.8562 - val_loss: 0.3348\n",
      "Epoch 83/100\n",
      "\u001b[1m200/200\u001b[0m \u001b[32m━━━━━━━━━━━━━━━━━━━━\u001b[0m\u001b[37m\u001b[0m \u001b[1m1s\u001b[0m 2ms/step - accuracy: 0.8720 - loss: 0.3207 - val_accuracy: 0.8587 - val_loss: 0.3355\n",
      "Epoch 84/100\n",
      "\u001b[1m200/200\u001b[0m \u001b[32m━━━━━━━━━━━━━━━━━━━━\u001b[0m\u001b[37m\u001b[0m \u001b[1m1s\u001b[0m 3ms/step - accuracy: 0.8711 - loss: 0.3222 - val_accuracy: 0.8587 - val_loss: 0.3355\n",
      "Epoch 85/100\n",
      "\u001b[1m200/200\u001b[0m \u001b[32m━━━━━━━━━━━━━━━━━━━━\u001b[0m\u001b[37m\u001b[0m \u001b[1m1s\u001b[0m 2ms/step - accuracy: 0.8630 - loss: 0.3278 - val_accuracy: 0.8562 - val_loss: 0.3355\n",
      "Epoch 86/100\n",
      "\u001b[1m200/200\u001b[0m \u001b[32m━━━━━━━━━━━━━━━━━━━━\u001b[0m\u001b[37m\u001b[0m \u001b[1m1s\u001b[0m 3ms/step - accuracy: 0.8644 - loss: 0.3325 - val_accuracy: 0.8587 - val_loss: 0.3353\n",
      "Epoch 87/100\n",
      "\u001b[1m200/200\u001b[0m \u001b[32m━━━━━━━━━━━━━━━━━━━━\u001b[0m\u001b[37m\u001b[0m \u001b[1m1s\u001b[0m 3ms/step - accuracy: 0.8608 - loss: 0.3333 - val_accuracy: 0.8556 - val_loss: 0.3348\n",
      "Epoch 88/100\n",
      "\u001b[1m200/200\u001b[0m \u001b[32m━━━━━━━━━━━━━━━━━━━━\u001b[0m\u001b[37m\u001b[0m \u001b[1m1s\u001b[0m 3ms/step - accuracy: 0.8550 - loss: 0.3365 - val_accuracy: 0.8562 - val_loss: 0.3359\n",
      "Epoch 89/100\n",
      "\u001b[1m200/200\u001b[0m \u001b[32m━━━━━━━━━━━━━━━━━━━━\u001b[0m\u001b[37m\u001b[0m \u001b[1m1s\u001b[0m 2ms/step - accuracy: 0.8627 - loss: 0.3267 - val_accuracy: 0.8556 - val_loss: 0.3357\n",
      "Epoch 90/100\n",
      "\u001b[1m200/200\u001b[0m \u001b[32m━━━━━━━━━━━━━━━━━━━━\u001b[0m\u001b[37m\u001b[0m \u001b[1m1s\u001b[0m 3ms/step - accuracy: 0.8630 - loss: 0.3278 - val_accuracy: 0.8544 - val_loss: 0.3353\n",
      "Epoch 91/100\n",
      "\u001b[1m200/200\u001b[0m \u001b[32m━━━━━━━━━━━━━━━━━━━━\u001b[0m\u001b[37m\u001b[0m \u001b[1m1s\u001b[0m 2ms/step - accuracy: 0.8645 - loss: 0.3318 - val_accuracy: 0.8569 - val_loss: 0.3363\n",
      "Epoch 92/100\n",
      "\u001b[1m200/200\u001b[0m \u001b[32m━━━━━━━━━━━━━━━━━━━━\u001b[0m\u001b[37m\u001b[0m \u001b[1m1s\u001b[0m 3ms/step - accuracy: 0.8581 - loss: 0.3335 - val_accuracy: 0.8594 - val_loss: 0.3344\n",
      "Epoch 93/100\n",
      "\u001b[1m200/200\u001b[0m \u001b[32m━━━━━━━━━━━━━━━━━━━━\u001b[0m\u001b[37m\u001b[0m \u001b[1m1s\u001b[0m 2ms/step - accuracy: 0.8666 - loss: 0.3281 - val_accuracy: 0.8556 - val_loss: 0.3351\n",
      "Epoch 94/100\n",
      "\u001b[1m200/200\u001b[0m \u001b[32m━━━━━━━━━━━━━━━━━━━━\u001b[0m\u001b[37m\u001b[0m \u001b[1m1s\u001b[0m 3ms/step - accuracy: 0.8650 - loss: 0.3274 - val_accuracy: 0.8537 - val_loss: 0.3356\n",
      "Epoch 95/100\n",
      "\u001b[1m200/200\u001b[0m \u001b[32m━━━━━━━━━━━━━━━━━━━━\u001b[0m\u001b[37m\u001b[0m \u001b[1m1s\u001b[0m 4ms/step - accuracy: 0.8549 - loss: 0.3474 - val_accuracy: 0.8631 - val_loss: 0.3376\n",
      "Epoch 96/100\n",
      "\u001b[1m200/200\u001b[0m \u001b[32m━━━━━━━━━━━━━━━━━━━━\u001b[0m\u001b[37m\u001b[0m \u001b[1m1s\u001b[0m 3ms/step - accuracy: 0.8620 - loss: 0.3268 - val_accuracy: 0.8575 - val_loss: 0.3352\n",
      "Epoch 97/100\n",
      "\u001b[1m200/200\u001b[0m \u001b[32m━━━━━━━━━━━━━━━━━━━━\u001b[0m\u001b[37m\u001b[0m \u001b[1m1s\u001b[0m 3ms/step - accuracy: 0.8704 - loss: 0.3201 - val_accuracy: 0.8562 - val_loss: 0.3359\n",
      "Epoch 98/100\n",
      "\u001b[1m200/200\u001b[0m \u001b[32m━━━━━━━━━━━━━━━━━━━━\u001b[0m\u001b[37m\u001b[0m \u001b[1m1s\u001b[0m 2ms/step - accuracy: 0.8729 - loss: 0.3082 - val_accuracy: 0.8550 - val_loss: 0.3361\n",
      "Epoch 99/100\n",
      "\u001b[1m200/200\u001b[0m \u001b[32m━━━━━━━━━━━━━━━━━━━━\u001b[0m\u001b[37m\u001b[0m \u001b[1m1s\u001b[0m 2ms/step - accuracy: 0.8653 - loss: 0.3300 - val_accuracy: 0.8569 - val_loss: 0.3350\n",
      "Epoch 100/100\n",
      "\u001b[1m200/200\u001b[0m \u001b[32m━━━━━━━━━━━━━━━━━━━━\u001b[0m\u001b[37m\u001b[0m \u001b[1m1s\u001b[0m 2ms/step - accuracy: 0.8690 - loss: 0.3260 - val_accuracy: 0.8594 - val_loss: 0.3356\n"
     ]
    }
   ],
   "source": [
    "history = model.fit(X_train, y_train, epochs=100, validation_split=0.2)"
   ]
  },
  {
   "cell_type": "code",
   "execution_count": 22,
   "metadata": {
    "execution": {
     "iopub.execute_input": "2025-06-04T05:22:43.734043Z",
     "iopub.status.busy": "2025-06-04T05:22:43.733762Z",
     "iopub.status.idle": "2025-06-04T05:22:43.741975Z",
     "shell.execute_reply": "2025-06-04T05:22:43.741168Z",
     "shell.execute_reply.started": "2025-06-04T05:22:43.734023Z"
    },
    "trusted": true
   },
   "outputs": [
    {
     "data": {
      "text/plain": [
       "[array([[ 0.09778404,  0.21012105,  0.2514402 , -0.33190593, -0.06197794,\n",
       "          0.40944096,  0.1923903 ,  0.07231222,  0.22521193,  0.03909275,\n",
       "         -0.06864537],\n",
       "        [ 0.87760365, -0.72769105, -1.0177838 , -0.55854475,  0.36584073,\n",
       "         -0.26478526, -1.3713682 , -1.0987161 , -0.95244473, -0.05106879,\n",
       "         -0.31093732],\n",
       "        [ 0.2810819 , -0.0810287 , -0.2819513 ,  0.5246797 ,  0.16621499,\n",
       "         -0.34669432,  0.44622824, -0.04210696,  0.00226369,  0.01490464,\n",
       "          0.16301428],\n",
       "        [ 0.29497644,  0.17190538,  0.13163076,  0.351063  ,  0.06612334,\n",
       "         -0.16727091, -0.77302283,  0.07794481, -0.07680111,  0.6296541 ,\n",
       "         -0.03298129],\n",
       "        [ 0.06402189, -0.48983932, -0.53547525, -0.21694781, -0.6206439 ,\n",
       "         -1.3116276 ,  0.0193211 , -0.07896279, -0.2006853 ,  1.3365488 ,\n",
       "         -1.7164308 ],\n",
       "        [ 0.30408704, -0.07308834,  0.25765872, -0.19991358, -0.10503285,\n",
       "          0.332486  ,  0.3636767 , -0.01073917,  0.1193048 ,  0.01152697,\n",
       "         -0.05347479],\n",
       "        [ 0.5334117 , -0.7907693 ,  0.11512613, -0.56876904, -0.8087355 ,\n",
       "         -0.35316607,  0.04649366, -0.48634455, -0.26784733, -0.47323388,\n",
       "         -0.5360012 ],\n",
       "        [ 0.20967731, -0.14140524,  0.58554053, -0.24841228,  0.04767046,\n",
       "          0.0284551 , -0.24608284,  0.04183476, -0.00862011,  0.0204184 ,\n",
       "          0.10964974],\n",
       "        [-0.18582566,  0.03315584,  0.4683118 , -0.01932391,  0.56822973,\n",
       "          0.15386577,  0.30330777,  0.03940896, -0.7599144 , -0.25644478,\n",
       "          0.11313102],\n",
       "        [ 0.16886263,  0.3803988 , -0.04293123,  0.1391012 ,  0.1313978 ,\n",
       "          0.05299451,  0.14531039, -1.3483654 ,  0.1060881 , -0.0036598 ,\n",
       "         -0.00448049],\n",
       "        [ 0.36095864, -0.14026925,  0.13010867,  0.29192954, -0.12591046,\n",
       "         -0.05923306, -0.5413236 ,  0.01965949,  0.2602287 ,  0.00867719,\n",
       "          0.1624762 ]], dtype=float32),\n",
       " array([-0.14500906,  0.5919915 ,  0.29171422,  0.6038054 , -0.11944556,\n",
       "         0.14922607,  0.44902548,  0.80457944,  0.8586576 ,  0.10398531,\n",
       "         0.44414207], dtype=float32)]"
      ]
     },
     "execution_count": 22,
     "metadata": {},
     "output_type": "execute_result"
    }
   ],
   "source": [
    "model.layers[0].get_weights()"
   ]
  },
  {
   "cell_type": "code",
   "execution_count": 23,
   "metadata": {
    "execution": {
     "iopub.execute_input": "2025-06-04T05:22:43.743484Z",
     "iopub.status.busy": "2025-06-04T05:22:43.742806Z",
     "iopub.status.idle": "2025-06-04T05:22:44.018895Z",
     "shell.execute_reply": "2025-06-04T05:22:44.017868Z",
     "shell.execute_reply.started": "2025-06-04T05:22:43.743456Z"
    },
    "trusted": true
   },
   "outputs": [
    {
     "name": "stdout",
     "output_type": "stream",
     "text": [
      "\u001b[1m63/63\u001b[0m \u001b[32m━━━━━━━━━━━━━━━━━━━━\u001b[0m\u001b[37m\u001b[0m \u001b[1m0s\u001b[0m 3ms/step\n"
     ]
    }
   ],
   "source": [
    "y_pred = model.predict(X_test)"
   ]
  },
  {
   "cell_type": "code",
   "execution_count": 24,
   "metadata": {
    "execution": {
     "iopub.execute_input": "2025-06-04T05:22:44.020367Z",
     "iopub.status.busy": "2025-06-04T05:22:44.020102Z",
     "iopub.status.idle": "2025-06-04T05:22:44.026178Z",
     "shell.execute_reply": "2025-06-04T05:22:44.025450Z",
     "shell.execute_reply.started": "2025-06-04T05:22:44.020338Z"
    },
    "trusted": true
   },
   "outputs": [
    {
     "data": {
      "text/plain": [
       "array([[0.03688724],\n",
       "       [0.01560905],\n",
       "       [0.10738041],\n",
       "       ...,\n",
       "       [0.55886436],\n",
       "       [0.12074596],\n",
       "       [0.28735107]], dtype=float32)"
      ]
     },
     "execution_count": 24,
     "metadata": {},
     "output_type": "execute_result"
    }
   ],
   "source": [
    "y_pred"
   ]
  },
  {
   "cell_type": "code",
   "execution_count": 25,
   "metadata": {
    "execution": {
     "iopub.execute_input": "2025-06-04T05:22:44.027172Z",
     "iopub.status.busy": "2025-06-04T05:22:44.026936Z",
     "iopub.status.idle": "2025-06-04T05:22:44.040361Z",
     "shell.execute_reply": "2025-06-04T05:22:44.039620Z",
     "shell.execute_reply.started": "2025-06-04T05:22:44.027150Z"
    },
    "trusted": true
   },
   "outputs": [],
   "source": [
    "# sigmoid is probablity so we take 0.5 as threshold\n",
    "y_pred = np.where(y_pred>0.5, 1, 0)"
   ]
  },
  {
   "cell_type": "code",
   "execution_count": 26,
   "metadata": {
    "execution": {
     "iopub.execute_input": "2025-06-04T05:22:44.041540Z",
     "iopub.status.busy": "2025-06-04T05:22:44.041246Z",
     "iopub.status.idle": "2025-06-04T05:22:44.058217Z",
     "shell.execute_reply": "2025-06-04T05:22:44.057381Z",
     "shell.execute_reply.started": "2025-06-04T05:22:44.041514Z"
    },
    "trusted": true
   },
   "outputs": [
    {
     "data": {
      "text/plain": [
       "array([[0],\n",
       "       [0],\n",
       "       [0],\n",
       "       ...,\n",
       "       [1],\n",
       "       [0],\n",
       "       [0]])"
      ]
     },
     "execution_count": 26,
     "metadata": {},
     "output_type": "execute_result"
    }
   ],
   "source": [
    "y_pred"
   ]
  },
  {
   "cell_type": "code",
   "execution_count": 27,
   "metadata": {
    "execution": {
     "iopub.execute_input": "2025-06-04T05:22:44.059665Z",
     "iopub.status.busy": "2025-06-04T05:22:44.059335Z",
     "iopub.status.idle": "2025-06-04T05:22:44.074252Z",
     "shell.execute_reply": "2025-06-04T05:22:44.073360Z",
     "shell.execute_reply.started": "2025-06-04T05:22:44.059637Z"
    },
    "trusted": true
   },
   "outputs": [
    {
     "data": {
      "text/plain": [
       "0.858"
      ]
     },
     "execution_count": 27,
     "metadata": {},
     "output_type": "execute_result"
    }
   ],
   "source": [
    "from sklearn.metrics import accuracy_score\n",
    "accuracy_score(y_test, y_pred)"
   ]
  },
  {
   "cell_type": "code",
   "execution_count": 28,
   "metadata": {
    "execution": {
     "iopub.execute_input": "2025-06-04T05:22:44.075681Z",
     "iopub.status.busy": "2025-06-04T05:22:44.075286Z",
     "iopub.status.idle": "2025-06-04T05:22:44.087788Z",
     "shell.execute_reply": "2025-06-04T05:22:44.086959Z",
     "shell.execute_reply.started": "2025-06-04T05:22:44.075652Z"
    },
    "trusted": true
   },
   "outputs": [],
   "source": [
    "import matplotlib.pyplot as plt"
   ]
  },
  {
   "cell_type": "code",
   "execution_count": 29,
   "metadata": {
    "execution": {
     "iopub.execute_input": "2025-06-04T05:22:44.088818Z",
     "iopub.status.busy": "2025-06-04T05:22:44.088587Z",
     "iopub.status.idle": "2025-06-04T05:22:44.104802Z",
     "shell.execute_reply": "2025-06-04T05:22:44.104105Z",
     "shell.execute_reply.started": "2025-06-04T05:22:44.088799Z"
    },
    "trusted": true
   },
   "outputs": [
    {
     "data": {
      "text/plain": [
       "{'accuracy': [0.7934374809265137,\n",
       "  0.7943750023841858,\n",
       "  0.807812511920929,\n",
       "  0.8112499713897705,\n",
       "  0.8162500262260437,\n",
       "  0.819531261920929,\n",
       "  0.8207812309265137,\n",
       "  0.8226562738418579,\n",
       "  0.8270312547683716,\n",
       "  0.8323437571525574,\n",
       "  0.8404687643051147,\n",
       "  0.8435937762260437,\n",
       "  0.8457812666893005,\n",
       "  0.8493750095367432,\n",
       "  0.8529687523841858,\n",
       "  0.8526562452316284,\n",
       "  0.8550000190734863,\n",
       "  0.8557812571525574,\n",
       "  0.8575000166893005,\n",
       "  0.858593761920929,\n",
       "  0.856249988079071,\n",
       "  0.8581249713897705,\n",
       "  0.8592187762260437,\n",
       "  0.8581249713897705,\n",
       "  0.858593761920929,\n",
       "  0.8587499856948853,\n",
       "  0.8581249713897705,\n",
       "  0.859375,\n",
       "  0.8604687452316284,\n",
       "  0.859375,\n",
       "  0.8604687452316284,\n",
       "  0.8607812523841858,\n",
       "  0.8592187762260437,\n",
       "  0.8600000143051147,\n",
       "  0.8621875047683716,\n",
       "  0.8607812523841858,\n",
       "  0.8615624904632568,\n",
       "  0.8628125190734863,\n",
       "  0.8629687428474426,\n",
       "  0.862500011920929,\n",
       "  0.86328125,\n",
       "  0.8615624904632568,\n",
       "  0.8623437285423279,\n",
       "  0.8637499809265137,\n",
       "  0.8618749976158142,\n",
       "  0.8623437285423279,\n",
       "  0.8607812523841858,\n",
       "  0.8614062666893005,\n",
       "  0.8621875047683716,\n",
       "  0.8623437285423279,\n",
       "  0.8614062666893005,\n",
       "  0.8631250262260437,\n",
       "  0.8631250262260437,\n",
       "  0.8642187714576721,\n",
       "  0.8629687428474426,\n",
       "  0.8637499809265137,\n",
       "  0.8631250262260437,\n",
       "  0.8643749952316284,\n",
       "  0.8631250262260437,\n",
       "  0.86328125,\n",
       "  0.8626562356948853,\n",
       "  0.864062488079071,\n",
       "  0.8631250262260437,\n",
       "  0.8637499809265137,\n",
       "  0.8637499809265137,\n",
       "  0.8637499809265137,\n",
       "  0.864062488079071,\n",
       "  0.8639062643051147,\n",
       "  0.864062488079071,\n",
       "  0.8643749952316284,\n",
       "  0.8650000095367432,\n",
       "  0.8629687428474426,\n",
       "  0.8635937571525574,\n",
       "  0.864062488079071,\n",
       "  0.864062488079071,\n",
       "  0.8643749952316284,\n",
       "  0.8657812476158142,\n",
       "  0.8639062643051147,\n",
       "  0.8645312786102295,\n",
       "  0.8628125190734863,\n",
       "  0.8628125190734863,\n",
       "  0.8629687428474426,\n",
       "  0.8635937571525574,\n",
       "  0.8634374737739563,\n",
       "  0.8651562333106995,\n",
       "  0.8654687404632568,\n",
       "  0.8635937571525574,\n",
       "  0.8637499809265137,\n",
       "  0.8621875047683716,\n",
       "  0.864062488079071,\n",
       "  0.8642187714576721,\n",
       "  0.8650000095367432,\n",
       "  0.8637499809265137,\n",
       "  0.8650000095367432,\n",
       "  0.864062488079071,\n",
       "  0.8654687404632568,\n",
       "  0.8648437261581421,\n",
       "  0.8639062643051147,\n",
       "  0.8650000095367432,\n",
       "  0.8657812476158142],\n",
       " 'loss': [0.491036057472229,\n",
       "  0.4563003480434418,\n",
       "  0.43546590209007263,\n",
       "  0.4238588213920593,\n",
       "  0.4166988432407379,\n",
       "  0.4108416438102722,\n",
       "  0.40541335940361023,\n",
       "  0.399331659078598,\n",
       "  0.3922988772392273,\n",
       "  0.38416749238967896,\n",
       "  0.37754249572753906,\n",
       "  0.37140142917633057,\n",
       "  0.3668217062950134,\n",
       "  0.3628627359867096,\n",
       "  0.3591729402542114,\n",
       "  0.35672512650489807,\n",
       "  0.3540961444377899,\n",
       "  0.3524048924446106,\n",
       "  0.3501926064491272,\n",
       "  0.3489316999912262,\n",
       "  0.3475724756717682,\n",
       "  0.3462890684604645,\n",
       "  0.3449713885784149,\n",
       "  0.3439767062664032,\n",
       "  0.3433683514595032,\n",
       "  0.342323899269104,\n",
       "  0.34168457984924316,\n",
       "  0.3407626748085022,\n",
       "  0.34040209650993347,\n",
       "  0.3394457697868347,\n",
       "  0.33875149488449097,\n",
       "  0.3388499319553375,\n",
       "  0.3383212387561798,\n",
       "  0.33786022663116455,\n",
       "  0.33721762895584106,\n",
       "  0.3371098041534424,\n",
       "  0.3365061581134796,\n",
       "  0.33613482117652893,\n",
       "  0.33592137694358826,\n",
       "  0.33512458205223083,\n",
       "  0.33521437644958496,\n",
       "  0.33517587184906006,\n",
       "  0.3344971537590027,\n",
       "  0.3346939980983734,\n",
       "  0.3341831862926483,\n",
       "  0.3340472877025604,\n",
       "  0.3334808349609375,\n",
       "  0.33373603224754333,\n",
       "  0.3331137001514435,\n",
       "  0.3332996666431427,\n",
       "  0.33285877108573914,\n",
       "  0.3327098786830902,\n",
       "  0.33286982774734497,\n",
       "  0.3325452506542206,\n",
       "  0.332218199968338,\n",
       "  0.3322560489177704,\n",
       "  0.3315278887748718,\n",
       "  0.3318003714084625,\n",
       "  0.33148232102394104,\n",
       "  0.3315211832523346,\n",
       "  0.3313761055469513,\n",
       "  0.33116522431373596,\n",
       "  0.33130165934562683,\n",
       "  0.3310304284095764,\n",
       "  0.33075016736984253,\n",
       "  0.3310220241546631,\n",
       "  0.3304588794708252,\n",
       "  0.3307769000530243,\n",
       "  0.33044880628585815,\n",
       "  0.33043426275253296,\n",
       "  0.33017730712890625,\n",
       "  0.3298843502998352,\n",
       "  0.3299078643321991,\n",
       "  0.32969048619270325,\n",
       "  0.3295849561691284,\n",
       "  0.3294353187084198,\n",
       "  0.3292967677116394,\n",
       "  0.329203337430954,\n",
       "  0.32919052243232727,\n",
       "  0.3291003704071045,\n",
       "  0.32888779044151306,\n",
       "  0.32930126786231995,\n",
       "  0.32866406440734863,\n",
       "  0.3283045291900635,\n",
       "  0.32859936356544495,\n",
       "  0.3284130394458771,\n",
       "  0.32831302285194397,\n",
       "  0.32753729820251465,\n",
       "  0.32846128940582275,\n",
       "  0.3279596269130707,\n",
       "  0.32786086201667786,\n",
       "  0.32782626152038574,\n",
       "  0.3278964161872864,\n",
       "  0.3275219798088074,\n",
       "  0.3265383839607239,\n",
       "  0.32751551270484924,\n",
       "  0.327040433883667,\n",
       "  0.32752594351768494,\n",
       "  0.3270552158355713,\n",
       "  0.3271680176258087],\n",
       " 'val_accuracy': [0.7987499833106995,\n",
       "  0.809374988079071,\n",
       "  0.8218749761581421,\n",
       "  0.8237500190734863,\n",
       "  0.8293750286102295,\n",
       "  0.8293750286102295,\n",
       "  0.8306249976158142,\n",
       "  0.8299999833106995,\n",
       "  0.8331249952316284,\n",
       "  0.8393750190734863,\n",
       "  0.8456249833106995,\n",
       "  0.8462499976158142,\n",
       "  0.8481249809265137,\n",
       "  0.8506249785423279,\n",
       "  0.8537499904632568,\n",
       "  0.8537499904632568,\n",
       "  0.8543750047683716,\n",
       "  0.8531249761581421,\n",
       "  0.8525000214576721,\n",
       "  0.8518750071525574,\n",
       "  0.8525000214576721,\n",
       "  0.8531249761581421,\n",
       "  0.856249988079071,\n",
       "  0.8518750071525574,\n",
       "  0.856249988079071,\n",
       "  0.8587499856948853,\n",
       "  0.8543750047683716,\n",
       "  0.8568750023841858,\n",
       "  0.8543750047683716,\n",
       "  0.8543750047683716,\n",
       "  0.8575000166893005,\n",
       "  0.8543750047683716,\n",
       "  0.856249988079071,\n",
       "  0.8568750023841858,\n",
       "  0.856249988079071,\n",
       "  0.856249988079071,\n",
       "  0.8568750023841858,\n",
       "  0.8543750047683716,\n",
       "  0.8531249761581421,\n",
       "  0.8556249737739563,\n",
       "  0.8556249737739563,\n",
       "  0.8556249737739563,\n",
       "  0.8612499833106995,\n",
       "  0.8525000214576721,\n",
       "  0.8575000166893005,\n",
       "  0.8575000166893005,\n",
       "  0.8537499904632568,\n",
       "  0.8543750047683716,\n",
       "  0.8587499856948853,\n",
       "  0.8543750047683716,\n",
       "  0.8556249737739563,\n",
       "  0.8537499904632568,\n",
       "  0.8568750023841858,\n",
       "  0.8556249737739563,\n",
       "  0.8587499856948853,\n",
       "  0.8575000166893005,\n",
       "  0.8543750047683716,\n",
       "  0.8568750023841858,\n",
       "  0.8581249713897705,\n",
       "  0.8568750023841858,\n",
       "  0.8556249737739563,\n",
       "  0.8600000143051147,\n",
       "  0.8568750023841858,\n",
       "  0.8587499856948853,\n",
       "  0.8556249737739563,\n",
       "  0.8550000190734863,\n",
       "  0.8618749976158142,\n",
       "  0.8537499904632568,\n",
       "  0.8581249713897705,\n",
       "  0.856249988079071,\n",
       "  0.8568750023841858,\n",
       "  0.856249988079071,\n",
       "  0.8581249713897705,\n",
       "  0.8587499856948853,\n",
       "  0.8581249713897705,\n",
       "  0.856249988079071,\n",
       "  0.8556249737739563,\n",
       "  0.8587499856948853,\n",
       "  0.8587499856948853,\n",
       "  0.8568750023841858,\n",
       "  0.8612499833106995,\n",
       "  0.856249988079071,\n",
       "  0.8587499856948853,\n",
       "  0.8587499856948853,\n",
       "  0.856249988079071,\n",
       "  0.8587499856948853,\n",
       "  0.8556249737739563,\n",
       "  0.856249988079071,\n",
       "  0.8556249737739563,\n",
       "  0.8543750047683716,\n",
       "  0.8568750023841858,\n",
       "  0.859375,\n",
       "  0.8556249737739563,\n",
       "  0.8537499904632568,\n",
       "  0.8631250262260437,\n",
       "  0.8575000166893005,\n",
       "  0.856249988079071,\n",
       "  0.8550000190734863,\n",
       "  0.8568750023841858,\n",
       "  0.859375],\n",
       " 'val_loss': [0.46246710419654846,\n",
       "  0.43440768122673035,\n",
       "  0.41970863938331604,\n",
       "  0.41221895813941956,\n",
       "  0.4065537750720978,\n",
       "  0.40279442071914673,\n",
       "  0.39806729555130005,\n",
       "  0.39317864179611206,\n",
       "  0.38705605268478394,\n",
       "  0.380924791097641,\n",
       "  0.374947190284729,\n",
       "  0.3705623745918274,\n",
       "  0.36709579825401306,\n",
       "  0.36467403173446655,\n",
       "  0.36222538352012634,\n",
       "  0.36062031984329224,\n",
       "  0.35930320620536804,\n",
       "  0.35778456926345825,\n",
       "  0.35584890842437744,\n",
       "  0.35426777601242065,\n",
       "  0.3534030020236969,\n",
       "  0.3522433042526245,\n",
       "  0.35173356533050537,\n",
       "  0.3496909439563751,\n",
       "  0.3486866354942322,\n",
       "  0.3475922644138336,\n",
       "  0.3466857075691223,\n",
       "  0.3464118540287018,\n",
       "  0.3449965715408325,\n",
       "  0.34541815519332886,\n",
       "  0.34533530473709106,\n",
       "  0.34430480003356934,\n",
       "  0.3429264426231384,\n",
       "  0.34193676710128784,\n",
       "  0.3421369194984436,\n",
       "  0.34115421772003174,\n",
       "  0.3407186269760132,\n",
       "  0.34043970704078674,\n",
       "  0.3398727476596832,\n",
       "  0.3396696448326111,\n",
       "  0.33927369117736816,\n",
       "  0.33937376737594604,\n",
       "  0.3393566906452179,\n",
       "  0.3388231694698334,\n",
       "  0.33835992217063904,\n",
       "  0.3384629189968109,\n",
       "  0.3384586572647095,\n",
       "  0.3374471366405487,\n",
       "  0.33790695667266846,\n",
       "  0.33711743354797363,\n",
       "  0.33776748180389404,\n",
       "  0.3375053107738495,\n",
       "  0.3387542963027954,\n",
       "  0.3367304503917694,\n",
       "  0.3367702066898346,\n",
       "  0.336807519197464,\n",
       "  0.3372335433959961,\n",
       "  0.3369380533695221,\n",
       "  0.33562514185905457,\n",
       "  0.33596575260162354,\n",
       "  0.33656272292137146,\n",
       "  0.3362733721733093,\n",
       "  0.336467981338501,\n",
       "  0.33576247096061707,\n",
       "  0.3355272710323334,\n",
       "  0.33538684248924255,\n",
       "  0.33621448278427124,\n",
       "  0.3360131084918976,\n",
       "  0.3355044424533844,\n",
       "  0.33547377586364746,\n",
       "  0.33559176325798035,\n",
       "  0.33565694093704224,\n",
       "  0.33533209562301636,\n",
       "  0.33495280146598816,\n",
       "  0.3360172510147095,\n",
       "  0.3365544080734253,\n",
       "  0.33642399311065674,\n",
       "  0.3360181152820587,\n",
       "  0.3358699381351471,\n",
       "  0.3372729420661926,\n",
       "  0.33604052662849426,\n",
       "  0.33483150601387024,\n",
       "  0.3354684114456177,\n",
       "  0.33553841710090637,\n",
       "  0.3354540169239044,\n",
       "  0.3352997303009033,\n",
       "  0.33482566475868225,\n",
       "  0.33591076731681824,\n",
       "  0.3357159495353699,\n",
       "  0.335292786359787,\n",
       "  0.33629855513572693,\n",
       "  0.3344353139400482,\n",
       "  0.33505260944366455,\n",
       "  0.33561161160469055,\n",
       "  0.3376409113407135,\n",
       "  0.33523181080818176,\n",
       "  0.3359335958957672,\n",
       "  0.3360956311225891,\n",
       "  0.33500194549560547,\n",
       "  0.3356357514858246]}"
      ]
     },
     "execution_count": 29,
     "metadata": {},
     "output_type": "execute_result"
    }
   ],
   "source": [
    "history.history"
   ]
  },
  {
   "cell_type": "code",
   "execution_count": 30,
   "metadata": {
    "execution": {
     "iopub.execute_input": "2025-06-04T05:23:46.145720Z",
     "iopub.status.busy": "2025-06-04T05:23:46.145398Z",
     "iopub.status.idle": "2025-06-04T05:23:46.301002Z",
     "shell.execute_reply": "2025-06-04T05:23:46.300177Z",
     "shell.execute_reply.started": "2025-06-04T05:23:46.145696Z"
    },
    "trusted": true
   },
   "outputs": [
    {
     "data": {
      "text/plain": [
       "[<matplotlib.lines.Line2D at 0x207ee374110>]"
      ]
     },
     "execution_count": 30,
     "metadata": {},
     "output_type": "execute_result"
    },
    {
     "data": {
      "image/png": "[encoded data removed]",
      "text/plain": [
       "<Figure size 640x480 with 1 Axes>"
      ]
     },
     "metadata": {},
     "output_type": "display_data"
    }
   ],
   "source": [
    "plt.plot(history.history['loss'])\n",
    "plt.plot(history.history['val_loss'])"
   ]
  },
  {
   "cell_type": "code",
   "execution_count": 31,
   "metadata": {
    "execution": {
     "iopub.execute_input": "2025-06-04T05:24:05.425614Z",
     "iopub.status.busy": "2025-06-04T05:24:05.425265Z",
     "iopub.status.idle": "2025-06-04T05:24:05.572926Z",
     "shell.execute_reply": "2025-06-04T05:24:05.572137Z",
     "shell.execute_reply.started": "2025-06-04T05:24:05.425541Z"
    },
    "trusted": true
   },
   "outputs": [
    {
     "data": {
      "text/plain": [
       "[<matplotlib.lines.Line2D at 0x207f0570ad0>]"
      ]
     },
     "execution_count": 31,
     "metadata": {},
     "output_type": "execute_result"
    },
    {
     "data": {
      "image/png": "[encoded data removed]",
      "text/plain": [
       "<Figure size 640x480 with 1 Axes>"
      ]
     },
     "metadata": {},
     "output_type": "display_data"
    }
   ],
   "source": [
    "plt.plot(history.history['accuracy'])\n",
    "plt.plot(history.history['val_accuracy'])"
   ]
  },
  {
   "cell_type": "code",
   "execution_count": null,
   "metadata": {
    "trusted": true
   },
   "outputs": [],
   "source": []
  }
 ],
 "metadata": {
  "kaggle": {
   "accelerator": "none",
   "dataSources": [
    {
     "datasetId": 869651,
     "sourceId": 1481789,
     "sourceType": "datasetVersion"
    }
   ],
   "dockerImageVersionId": 31040,
   "isGpuEnabled": false,
   "isInternetEnabled": true,
   "language": "python",
   "sourceType": "notebook"
  },
  "kernelspec": {
   "display_name": "Python 3",
   "language": "python",
   "name": "python3"
  },
  "language_info": {
   "codemirror_mode": {
    "name": "ipython",
    "version": 3
   },
   "file_extension": ".py",
   "mimetype": "text/x-python",
   "name": "python",
   "nbconvert_exporter": "python",
   "pygments_lexer": "ipython3",
   "version": "3.12.1"
  }
 },
 "nbformat": 4,
 "nbformat_minor": 4
}
